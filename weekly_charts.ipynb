{
  "nbformat": 4,
  "nbformat_minor": 0,
  "metadata": {
    "colab": {
      "provenance": []
    },
    "kernelspec": {
      "name": "python3",
      "display_name": "Python 3"
    },
    "language_info": {
      "name": "python"
    }
  },
  "cells": [
    {
      "cell_type": "markdown",
      "source": [
        "### Install Dash"
      ],
      "metadata": {
        "id": "3FPlFtcsqGqB"
      }
    },
    {
      "cell_type": "code",
      "source": [
        "!pip3 install --upgrade plotly\n",
        "!pip3 install jupyter-dash"
      ],
      "metadata": {
        "colab": {
          "base_uri": "https://localhost:8080/",
          "height": 1000
        },
        "id": "WCsMWMKnqRS1",
        "outputId": "af52e7bb-d3b2-452c-8f6d-82675b3fe397"
      },
      "execution_count": 13,
      "outputs": [
        {
          "output_type": "stream",
          "name": "stdout",
          "text": [
            "Looking in indexes: https://pypi.org/simple, https://us-python.pkg.dev/colab-wheels/public/simple/\n",
            "Requirement already satisfied: plotly in /usr/local/lib/python3.7/dist-packages (5.5.0)\n",
            "Collecting plotly\n",
            "  Using cached plotly-5.11.0-py2.py3-none-any.whl (15.3 MB)\n",
            "Requirement already satisfied: tenacity>=6.2.0 in /usr/local/lib/python3.7/dist-packages (from plotly) (8.1.0)\n",
            "Installing collected packages: plotly\n",
            "  Attempting uninstall: plotly\n",
            "    Found existing installation: plotly 5.5.0\n",
            "    Uninstalling plotly-5.5.0:\n",
            "      Successfully uninstalled plotly-5.5.0\n",
            "Successfully installed plotly-5.11.0\n"
          ]
        },
        {
          "output_type": "display_data",
          "data": {
            "application/vnd.colab-display-data+json": {
              "pip_warning": {
                "packages": [
                  "_plotly_utils",
                  "plotly"
                ]
              }
            }
          },
          "metadata": {}
        },
        {
          "output_type": "stream",
          "name": "stdout",
          "text": [
            "Looking in indexes: https://pypi.org/simple, https://us-python.pkg.dev/colab-wheels/public/simple/\n",
            "Requirement already satisfied: jupyter-dash in /usr/local/lib/python3.7/dist-packages (0.4.2)\n",
            "Requirement already satisfied: dash in /usr/local/lib/python3.7/dist-packages (from jupyter-dash) (2.6.2)\n",
            "Requirement already satisfied: nest-asyncio in /usr/local/lib/python3.7/dist-packages (from jupyter-dash) (1.5.6)\n",
            "Requirement already satisfied: requests in /usr/local/lib/python3.7/dist-packages (from jupyter-dash) (2.23.0)\n",
            "Requirement already satisfied: flask in /usr/local/lib/python3.7/dist-packages (from jupyter-dash) (1.1.4)\n",
            "Requirement already satisfied: ipykernel in /usr/local/lib/python3.7/dist-packages (from jupyter-dash) (5.3.4)\n",
            "Requirement already satisfied: ansi2html in /usr/local/lib/python3.7/dist-packages (from jupyter-dash) (1.8.0)\n",
            "Requirement already satisfied: retrying in /usr/local/lib/python3.7/dist-packages (from jupyter-dash) (1.3.3)\n",
            "Requirement already satisfied: ipython in /usr/local/lib/python3.7/dist-packages (from jupyter-dash) (7.9.0)\n",
            "Requirement already satisfied: importlib-metadata in /usr/local/lib/python3.7/dist-packages (from ansi2html->jupyter-dash) (4.13.0)\n",
            "Requirement already satisfied: plotly>=5.0.0 in /usr/local/lib/python3.7/dist-packages (from dash->jupyter-dash) (5.11.0)\n",
            "Requirement already satisfied: dash-table==5.0.0 in /usr/local/lib/python3.7/dist-packages (from dash->jupyter-dash) (5.0.0)\n",
            "Requirement already satisfied: dash-html-components==2.0.0 in /usr/local/lib/python3.7/dist-packages (from dash->jupyter-dash) (2.0.0)\n",
            "Requirement already satisfied: dash-core-components==2.0.0 in /usr/local/lib/python3.7/dist-packages (from dash->jupyter-dash) (2.0.0)\n",
            "Requirement already satisfied: flask-compress in /usr/local/lib/python3.7/dist-packages (from dash->jupyter-dash) (1.13)\n",
            "Requirement already satisfied: Jinja2<3.0,>=2.10.1 in /usr/local/lib/python3.7/dist-packages (from flask->jupyter-dash) (2.11.3)\n",
            "Requirement already satisfied: Werkzeug<2.0,>=0.15 in /usr/local/lib/python3.7/dist-packages (from flask->jupyter-dash) (1.0.1)\n",
            "Requirement already satisfied: click<8.0,>=5.1 in /usr/local/lib/python3.7/dist-packages (from flask->jupyter-dash) (7.1.2)\n",
            "Requirement already satisfied: itsdangerous<2.0,>=0.24 in /usr/local/lib/python3.7/dist-packages (from flask->jupyter-dash) (1.1.0)\n",
            "Requirement already satisfied: MarkupSafe>=0.23 in /usr/local/lib/python3.7/dist-packages (from Jinja2<3.0,>=2.10.1->flask->jupyter-dash) (2.0.1)\n",
            "Requirement already satisfied: tenacity>=6.2.0 in /usr/local/lib/python3.7/dist-packages (from plotly>=5.0.0->dash->jupyter-dash) (8.1.0)\n",
            "Requirement already satisfied: brotli in /usr/local/lib/python3.7/dist-packages (from flask-compress->dash->jupyter-dash) (1.0.9)\n",
            "Requirement already satisfied: typing-extensions>=3.6.4 in /usr/local/lib/python3.7/dist-packages (from importlib-metadata->ansi2html->jupyter-dash) (4.1.1)\n",
            "Requirement already satisfied: zipp>=0.5 in /usr/local/lib/python3.7/dist-packages (from importlib-metadata->ansi2html->jupyter-dash) (3.10.0)\n",
            "Requirement already satisfied: jupyter-client in /usr/local/lib/python3.7/dist-packages (from ipykernel->jupyter-dash) (6.1.12)\n",
            "Requirement already satisfied: tornado>=4.2 in /usr/local/lib/python3.7/dist-packages (from ipykernel->jupyter-dash) (5.1.1)\n",
            "Requirement already satisfied: traitlets>=4.1.0 in /usr/local/lib/python3.7/dist-packages (from ipykernel->jupyter-dash) (5.1.1)\n",
            "Requirement already satisfied: pexpect in /usr/local/lib/python3.7/dist-packages (from ipython->jupyter-dash) (4.8.0)\n",
            "Requirement already satisfied: pygments in /usr/local/lib/python3.7/dist-packages (from ipython->jupyter-dash) (2.6.1)\n",
            "Requirement already satisfied: backcall in /usr/local/lib/python3.7/dist-packages (from ipython->jupyter-dash) (0.2.0)\n",
            "Requirement already satisfied: prompt-toolkit<2.1.0,>=2.0.0 in /usr/local/lib/python3.7/dist-packages (from ipython->jupyter-dash) (2.0.10)\n",
            "Requirement already satisfied: jedi>=0.10 in /usr/local/lib/python3.7/dist-packages (from ipython->jupyter-dash) (0.18.1)\n",
            "Requirement already satisfied: setuptools>=18.5 in /usr/local/lib/python3.7/dist-packages (from ipython->jupyter-dash) (57.4.0)\n",
            "Requirement already satisfied: decorator in /usr/local/lib/python3.7/dist-packages (from ipython->jupyter-dash) (4.4.2)\n",
            "Requirement already satisfied: pickleshare in /usr/local/lib/python3.7/dist-packages (from ipython->jupyter-dash) (0.7.5)\n",
            "Requirement already satisfied: parso<0.9.0,>=0.8.0 in /usr/local/lib/python3.7/dist-packages (from jedi>=0.10->ipython->jupyter-dash) (0.8.3)\n",
            "Requirement already satisfied: wcwidth in /usr/local/lib/python3.7/dist-packages (from prompt-toolkit<2.1.0,>=2.0.0->ipython->jupyter-dash) (0.2.5)\n",
            "Requirement already satisfied: six>=1.9.0 in /usr/local/lib/python3.7/dist-packages (from prompt-toolkit<2.1.0,>=2.0.0->ipython->jupyter-dash) (1.15.0)\n",
            "Requirement already satisfied: jupyter-core>=4.6.0 in /usr/local/lib/python3.7/dist-packages (from jupyter-client->ipykernel->jupyter-dash) (4.11.2)\n",
            "Requirement already satisfied: python-dateutil>=2.1 in /usr/local/lib/python3.7/dist-packages (from jupyter-client->ipykernel->jupyter-dash) (2.8.2)\n",
            "Requirement already satisfied: pyzmq>=13 in /usr/local/lib/python3.7/dist-packages (from jupyter-client->ipykernel->jupyter-dash) (23.2.1)\n",
            "Requirement already satisfied: ptyprocess>=0.5 in /usr/local/lib/python3.7/dist-packages (from pexpect->ipython->jupyter-dash) (0.7.0)\n",
            "Requirement already satisfied: urllib3!=1.25.0,!=1.25.1,<1.26,>=1.21.1 in /usr/local/lib/python3.7/dist-packages (from requests->jupyter-dash) (1.24.3)\n",
            "Requirement already satisfied: chardet<4,>=3.0.2 in /usr/local/lib/python3.7/dist-packages (from requests->jupyter-dash) (3.0.4)\n",
            "Requirement already satisfied: certifi>=2017.4.17 in /usr/local/lib/python3.7/dist-packages (from requests->jupyter-dash) (2022.9.24)\n",
            "Requirement already satisfied: idna<3,>=2.5 in /usr/local/lib/python3.7/dist-packages (from requests->jupyter-dash) (2.10)\n"
          ]
        }
      ]
    },
    {
      "cell_type": "code",
      "source": [
        "import plotly.graph_objects as go\n",
        "import plotly.express as px\n",
        "from jupyter_dash import JupyterDash\n",
        "from dash import dcc, html\n",
        "from dash.dependencies import Input, Output \n",
        "import numpy as np\n",
        "import pandas as pd\n",
        "import datetime\n",
        "from dateutil.relativedelta import relativedelta\n",
        "from google.colab import files"
      ],
      "metadata": {
        "id": "9EB-tYzusbjx"
      },
      "execution_count": 14,
      "outputs": []
    },
    {
      "cell_type": "markdown",
      "source": [
        "## Generate datasets"
      ],
      "metadata": {
        "id": "V58HvkJp5pcA"
      }
    },
    {
      "cell_type": "markdown",
      "source": [
        "#### 1 parameter"
      ],
      "metadata": {
        "id": "eqU1yI_z9zq1"
      }
    },
    {
      "cell_type": "code",
      "source": [
        "def generate_dataset_1(link, column1):\n",
        "  df = pd.read_csv(link) \n",
        "  \n",
        "  df['date'] = df['date'].astype('datetime64[ns]')\n",
        "  df['week'] = df['date'].dt.isocalendar().week\n",
        "  df = df.drop(['date'], axis=1)\n",
        "\n",
        "  df = df.groupby(['week', column1])['week'].count().to_frame('count').reset_index()\n",
        "  df = df.sort_values(['week', column1])\n",
        "\n",
        "  columns = df[column1].drop_duplicates().to_numpy()\n",
        "  for week in range(2, 42):\n",
        "    for col1 in columns:\n",
        "        if ( len(df.loc[(df['week'] == week) & (df[column1] == col1)]) == 0):\n",
        "            row = {'week': week, column1: col1, 'count': 0}\n",
        "            df = df.append(row, ignore_index = True)\n",
        "  \n",
        "  df = df.sort_values(by=['week'])\n",
        "  df['week'] = df['week'].apply(lambda week: datetime.date(2022, 1, 1) + relativedelta(weeks=+week))\n",
        "  return df"
      ],
      "metadata": {
        "id": "FTu6qhEr9K-Q"
      },
      "execution_count": 15,
      "outputs": []
    },
    {
      "cell_type": "markdown",
      "source": [
        "#### 2 parameters"
      ],
      "metadata": {
        "id": "B_lc2bRt94h9"
      }
    },
    {
      "cell_type": "code",
      "source": [
        "def generate_dataset_2(link, column1, column2):\n",
        "  df = pd.read_csv(link) \n",
        "  \n",
        "  df['date'] = df['date'].astype('datetime64[ns]')\n",
        "  df['week'] = df['date'].dt.isocalendar().week\n",
        "  df = df.drop(['date'], axis=1)\n",
        "\n",
        "  df = df.groupby(['week', column1, column2])['week'].count().to_frame('count').reset_index()\n",
        "  df = df.sort_values(['week', column1, column2])\n",
        "\n",
        "  columns = df[[column1, column2]].drop_duplicates().to_numpy()\n",
        "  for week in range(2, 42):\n",
        "    for col1, col2 in columns:\n",
        "        if ( len(df.loc[(df['week'] == week) & (df[column1] == col1) & (df[column2] == col2)]) == 0):\n",
        "            row = {'week': week, column1: col1, column2: col2, 'count': 0}\n",
        "            df = df.append(row, ignore_index = True)\n",
        "  \n",
        "  df = df.sort_values(by=['week'])\n",
        "  df['week'] = df['week'].apply(lambda week: datetime.date(2022, 1, 1) + relativedelta(weeks=+week))\n",
        "  return df"
      ],
      "metadata": {
        "id": "5IhTh0UyhqL1"
      },
      "execution_count": 16,
      "outputs": []
    },
    {
      "cell_type": "markdown",
      "source": [
        "## Plot figure"
      ],
      "metadata": {
        "id": "vY-Ew6C45xW2"
      }
    },
    {
      "cell_type": "markdown",
      "source": [
        "#### 1 parameter"
      ],
      "metadata": {
        "id": "dnbOL-bw-00H"
      }
    },
    {
      "cell_type": "code",
      "source": [
        "def plot_figure_1(link, column1):\n",
        "  df = generate_dataset_1(link, column1)\n",
        "  \n",
        "  fig = px.line(df, x=\"week\", y=\"count\", color=column1, title='')\n",
        "  fig.show()"
      ],
      "metadata": {
        "id": "VRh4QdCC9fKR"
      },
      "execution_count": 17,
      "outputs": []
    },
    {
      "cell_type": "markdown",
      "source": [
        "#### 2 parameters"
      ],
      "metadata": {
        "id": "9FXnSKHF-3Aj"
      }
    },
    {
      "cell_type": "code",
      "source": [
        "def plot_figure_2(link, column1, column2):\n",
        "  df = generate_dataset_2(link, column1, column2)\n",
        "  \n",
        "  app = JupyterDash(__name__)\n",
        "\n",
        "  app.layout = html.Div([\t\n",
        "      # html.H4('Count by attacker (line) vs attacked (checkbox)'),\t\n",
        "      dcc.Graph(id=\"graph\"),\t\n",
        "      dcc.Checklist(\t\n",
        "          id=\"checklist\",\t\n",
        "          options=sorted(df[column1].unique()),\t\n",
        "          value=[\"Ukraine\"],\t\n",
        "          inline=True\t\n",
        "      ),\t\n",
        "  ])\t\n",
        "\n",
        "  @app.callback(\t\n",
        "      Output(\"graph\", \"figure\"), \t\n",
        "      Input(\"checklist\", \"value\"))\n",
        "  \n",
        "  def update_line_chart(labels):\t\n",
        "      mask = df[column1].isin(labels)\t\n",
        "      fig = px.line(df[mask], \t\n",
        "          x=\"week\", y=\"count\", color=column2)\t\n",
        "      return fig\n",
        "\n",
        "\n",
        "  app.run_server(mode='inline', debug=True)"
      ],
      "metadata": {
        "id": "h13szsYO5y8i"
      },
      "execution_count": 18,
      "outputs": []
    },
    {
      "cell_type": "markdown",
      "source": [
        "## Read"
      ],
      "metadata": {
        "id": "ZNKSz_g04T2L"
      }
    },
    {
      "cell_type": "code",
      "source": [
        "link = 'https://drive.google.com/uc?export=download&id=1yHGTAm0IyyUUHUchv6aAdBqYOdAGWHPu'"
      ],
      "metadata": {
        "id": "uvWIXbL3lHAJ"
      },
      "execution_count": 19,
      "outputs": []
    },
    {
      "cell_type": "markdown",
      "source": [
        "## Plot"
      ],
      "metadata": {
        "id": "KF-IXlwp4VKW"
      }
    },
    {
      "cell_type": "markdown",
      "source": [
        "### Count by attacked (line)"
      ],
      "metadata": {
        "id": "PZlZVVgx9Vsc"
      }
    },
    {
      "cell_type": "code",
      "source": [
        "plot_figure_1(link, 'attacked_country')"
      ],
      "metadata": {
        "colab": {
          "base_uri": "https://localhost:8080/",
          "height": 542
        },
        "id": "26AHBi-p9YRj",
        "outputId": "85b585eb-03c8-4140-92e2-045ca1f318df"
      },
      "execution_count": 8,
      "outputs": [
        {
          "output_type": "display_data",
          "data": {
            "text/html": [
              "<html>\n",
              "<head><meta charset=\"utf-8\" /></head>\n",
              "<body>\n",
              "    <div>            <script src=\"https://cdnjs.cloudflare.com/ajax/libs/mathjax/2.7.5/MathJax.js?config=TeX-AMS-MML_SVG\"></script><script type=\"text/javascript\">if (window.MathJax) {MathJax.Hub.Config({SVG: {font: \"STIX-Web\"}});}</script>                <script type=\"text/javascript\">window.PlotlyConfig = {MathJaxConfig: 'local'};</script>\n",
              "        <script src=\"https://cdn.plot.ly/plotly-2.8.3.min.js\"></script>                <div id=\"7552b154-0387-4288-820b-8ca4c4c72014\" class=\"plotly-graph-div\" style=\"height:525px; width:100%;\"></div>            <script type=\"text/javascript\">                                    window.PLOTLYENV=window.PLOTLYENV || {};                                    if (document.getElementById(\"7552b154-0387-4288-820b-8ca4c4c72014\")) {                    Plotly.newPlot(                        \"7552b154-0387-4288-820b-8ca4c4c72014\",                        [{\"hovertemplate\":\"attacked_country=Hungary<br>week=%{x}<br>count=%{y}<extra></extra>\",\"legendgroup\":\"Hungary\",\"line\":{\"color\":\"#636efa\",\"dash\":\"solid\"},\"marker\":{\"symbol\":\"circle\"},\"mode\":\"lines\",\"name\":\"Hungary\",\"showlegend\":true,\"x\":[\"2022-01-15\",\"2022-01-22\",\"2022-01-29\",\"2022-02-05\",\"2022-02-12\",\"2022-02-19\",\"2022-02-26\",\"2022-03-05\",\"2022-03-12\",\"2022-03-19\",\"2022-03-26\",\"2022-04-02\",\"2022-04-09\",\"2022-04-16\",\"2022-04-23\",\"2022-04-30\",\"2022-05-07\",\"2022-05-14\",\"2022-05-21\",\"2022-05-28\",\"2022-06-04\",\"2022-06-11\",\"2022-06-18\",\"2022-06-25\",\"2022-07-02\",\"2022-07-09\",\"2022-07-16\",\"2022-07-23\",\"2022-07-30\",\"2022-08-06\",\"2022-08-13\",\"2022-08-20\",\"2022-08-27\",\"2022-09-03\",\"2022-09-10\",\"2022-09-17\",\"2022-09-24\",\"2022-10-01\",\"2022-10-08\",\"2022-10-15\"],\"xaxis\":\"x\",\"y\":[1,0,0,0,0,0,0,0,0,0,1,0,0,0,0,0,0,0,0,0,0,0,0,0,0,0,0,0,0,0,0,0,0,0,0,0,0,0,0,0],\"yaxis\":\"y\",\"type\":\"scattergl\"},{\"hovertemplate\":\"attacked_country=Belgium<br>week=%{x}<br>count=%{y}<extra></extra>\",\"legendgroup\":\"Belgium\",\"line\":{\"color\":\"#EF553B\",\"dash\":\"solid\"},\"marker\":{\"symbol\":\"circle\"},\"mode\":\"lines\",\"name\":\"Belgium\",\"showlegend\":true,\"x\":[\"2022-01-15\",\"2022-01-22\",\"2022-01-29\",\"2022-02-05\",\"2022-02-12\",\"2022-02-19\",\"2022-02-26\",\"2022-03-05\",\"2022-03-12\",\"2022-03-19\",\"2022-03-26\",\"2022-04-02\",\"2022-04-09\",\"2022-04-16\",\"2022-04-23\",\"2022-04-30\",\"2022-05-07\",\"2022-05-14\",\"2022-05-21\",\"2022-05-28\",\"2022-06-04\",\"2022-06-11\",\"2022-06-18\",\"2022-06-25\",\"2022-07-02\",\"2022-07-09\",\"2022-07-16\",\"2022-07-23\",\"2022-07-30\",\"2022-08-06\",\"2022-08-13\",\"2022-08-20\",\"2022-08-27\",\"2022-09-03\",\"2022-09-10\",\"2022-09-17\",\"2022-09-24\",\"2022-10-01\",\"2022-10-08\",\"2022-10-15\"],\"xaxis\":\"x\",\"y\":[0,0,0,0,0,0,0,0,0,0,0,0,0,0,0,0,0,0,0,0,0,0,0,0,0,0,0,0,0,0,0,0,0,0,0,1,0,0,0,0],\"yaxis\":\"y\",\"type\":\"scattergl\"},{\"hovertemplate\":\"attacked_country=Japan<br>week=%{x}<br>count=%{y}<extra></extra>\",\"legendgroup\":\"Japan\",\"line\":{\"color\":\"#00cc96\",\"dash\":\"solid\"},\"marker\":{\"symbol\":\"circle\"},\"mode\":\"lines\",\"name\":\"Japan\",\"showlegend\":true,\"x\":[\"2022-01-15\",\"2022-01-22\",\"2022-01-29\",\"2022-02-05\",\"2022-02-12\",\"2022-02-19\",\"2022-02-26\",\"2022-03-05\",\"2022-03-12\",\"2022-03-19\",\"2022-03-26\",\"2022-04-02\",\"2022-04-09\",\"2022-04-16\",\"2022-04-23\",\"2022-04-30\",\"2022-05-07\",\"2022-05-14\",\"2022-05-21\",\"2022-05-28\",\"2022-06-04\",\"2022-06-11\",\"2022-06-18\",\"2022-06-25\",\"2022-07-02\",\"2022-07-09\",\"2022-07-16\",\"2022-07-23\",\"2022-07-30\",\"2022-08-06\",\"2022-08-13\",\"2022-08-20\",\"2022-08-27\",\"2022-09-03\",\"2022-09-10\",\"2022-09-17\",\"2022-09-24\",\"2022-10-01\",\"2022-10-08\",\"2022-10-15\"],\"xaxis\":\"x\",\"y\":[0,0,0,0,0,0,0,0,0,0,0,0,0,0,0,0,0,0,0,0,0,0,0,0,0,0,0,0,0,0,0,0,0,0,7,0,0,0,0,0],\"yaxis\":\"y\",\"type\":\"scattergl\"},{\"hovertemplate\":\"attacked_country=Montenegro<br>week=%{x}<br>count=%{y}<extra></extra>\",\"legendgroup\":\"Montenegro\",\"line\":{\"color\":\"#ab63fa\",\"dash\":\"solid\"},\"marker\":{\"symbol\":\"circle\"},\"mode\":\"lines\",\"name\":\"Montenegro\",\"showlegend\":true,\"x\":[\"2022-01-15\",\"2022-01-22\",\"2022-01-29\",\"2022-02-05\",\"2022-02-12\",\"2022-02-19\",\"2022-02-26\",\"2022-03-05\",\"2022-03-12\",\"2022-03-19\",\"2022-03-26\",\"2022-04-02\",\"2022-04-09\",\"2022-04-16\",\"2022-04-23\",\"2022-04-30\",\"2022-05-07\",\"2022-05-14\",\"2022-05-21\",\"2022-05-28\",\"2022-06-04\",\"2022-06-11\",\"2022-06-18\",\"2022-06-25\",\"2022-07-02\",\"2022-07-09\",\"2022-07-16\",\"2022-07-23\",\"2022-07-30\",\"2022-08-06\",\"2022-08-13\",\"2022-08-20\",\"2022-08-27\",\"2022-09-03\",\"2022-09-10\",\"2022-09-17\",\"2022-09-24\",\"2022-10-01\",\"2022-10-08\",\"2022-10-15\"],\"xaxis\":\"x\",\"y\":[0,0,0,0,0,0,0,0,0,0,0,0,0,0,0,0,0,0,0,0,0,0,0,0,0,0,0,0,0,0,0,0,1,0,0,0,0,0,0,0],\"yaxis\":\"y\",\"type\":\"scattergl\"},{\"hovertemplate\":\"attacked_country=Denmark<br>week=%{x}<br>count=%{y}<extra></extra>\",\"legendgroup\":\"Denmark\",\"line\":{\"color\":\"#FFA15A\",\"dash\":\"solid\"},\"marker\":{\"symbol\":\"circle\"},\"mode\":\"lines\",\"name\":\"Denmark\",\"showlegend\":true,\"x\":[\"2022-01-15\",\"2022-01-22\",\"2022-01-29\",\"2022-02-05\",\"2022-02-12\",\"2022-02-19\",\"2022-02-26\",\"2022-03-05\",\"2022-03-12\",\"2022-03-19\",\"2022-03-26\",\"2022-04-02\",\"2022-04-09\",\"2022-04-16\",\"2022-04-23\",\"2022-04-30\",\"2022-05-07\",\"2022-05-14\",\"2022-05-21\",\"2022-05-28\",\"2022-06-04\",\"2022-06-11\",\"2022-06-18\",\"2022-06-25\",\"2022-07-02\",\"2022-07-09\",\"2022-07-16\",\"2022-07-23\",\"2022-07-30\",\"2022-08-06\",\"2022-08-13\",\"2022-08-20\",\"2022-08-27\",\"2022-09-03\",\"2022-09-10\",\"2022-09-17\",\"2022-09-24\",\"2022-10-01\",\"2022-10-08\",\"2022-10-15\"],\"xaxis\":\"x\",\"y\":[0,0,0,0,0,0,0,0,0,0,0,0,0,0,0,0,0,0,0,0,0,0,0,0,0,0,0,0,0,0,3,0,0,0,0,0,0,0,0,0],\"yaxis\":\"y\",\"type\":\"scattergl\"},{\"hovertemplate\":\"attacked_country=Norway<br>week=%{x}<br>count=%{y}<extra></extra>\",\"legendgroup\":\"Norway\",\"line\":{\"color\":\"#19d3f3\",\"dash\":\"solid\"},\"marker\":{\"symbol\":\"circle\"},\"mode\":\"lines\",\"name\":\"Norway\",\"showlegend\":true,\"x\":[\"2022-01-15\",\"2022-01-22\",\"2022-01-29\",\"2022-02-05\",\"2022-02-12\",\"2022-02-19\",\"2022-02-26\",\"2022-03-05\",\"2022-03-12\",\"2022-03-19\",\"2022-03-26\",\"2022-04-02\",\"2022-04-09\",\"2022-04-16\",\"2022-04-23\",\"2022-04-30\",\"2022-05-07\",\"2022-05-14\",\"2022-05-21\",\"2022-05-28\",\"2022-06-04\",\"2022-06-11\",\"2022-06-18\",\"2022-06-25\",\"2022-07-02\",\"2022-07-09\",\"2022-07-16\",\"2022-07-23\",\"2022-07-30\",\"2022-08-06\",\"2022-08-13\",\"2022-08-20\",\"2022-08-27\",\"2022-09-03\",\"2022-09-10\",\"2022-09-17\",\"2022-09-24\",\"2022-10-01\",\"2022-10-08\",\"2022-10-15\"],\"xaxis\":\"x\",\"y\":[0,0,0,0,0,0,0,0,0,0,0,0,0,0,0,0,0,0,0,0,0,0,0,0,5,0,0,0,0,0,0,0,0,0,0,0,0,0,0,0],\"yaxis\":\"y\",\"type\":\"scattergl\"},{\"hovertemplate\":\"attacked_country=Colombia<br>week=%{x}<br>count=%{y}<extra></extra>\",\"legendgroup\":\"Colombia\",\"line\":{\"color\":\"#FF6692\",\"dash\":\"solid\"},\"marker\":{\"symbol\":\"circle\"},\"mode\":\"lines\",\"name\":\"Colombia\",\"showlegend\":true,\"x\":[\"2022-01-15\",\"2022-01-22\",\"2022-01-29\",\"2022-02-05\",\"2022-02-12\",\"2022-02-19\",\"2022-02-26\",\"2022-03-05\",\"2022-03-12\",\"2022-03-19\",\"2022-03-26\",\"2022-04-02\",\"2022-04-09\",\"2022-04-16\",\"2022-04-23\",\"2022-04-30\",\"2022-05-07\",\"2022-05-14\",\"2022-05-21\",\"2022-05-28\",\"2022-06-04\",\"2022-06-11\",\"2022-06-18\",\"2022-06-25\",\"2022-07-02\",\"2022-07-09\",\"2022-07-16\",\"2022-07-23\",\"2022-07-30\",\"2022-08-06\",\"2022-08-13\",\"2022-08-20\",\"2022-08-27\",\"2022-09-03\",\"2022-09-10\",\"2022-09-17\",\"2022-09-24\",\"2022-10-01\",\"2022-10-08\",\"2022-10-15\"],\"xaxis\":\"x\",\"y\":[0,0,0,0,0,0,0,0,0,0,0,0,0,0,0,0,0,0,0,0,0,0,0,0,1,0,0,0,0,0,0,0,0,0,0,0,0,0,0,0],\"yaxis\":\"y\",\"type\":\"scattergl\"},{\"hovertemplate\":\"attacked_country=Lithuania<br>week=%{x}<br>count=%{y}<extra></extra>\",\"legendgroup\":\"Lithuania\",\"line\":{\"color\":\"#B6E880\",\"dash\":\"solid\"},\"marker\":{\"symbol\":\"circle\"},\"mode\":\"lines\",\"name\":\"Lithuania\",\"showlegend\":true,\"x\":[\"2022-01-15\",\"2022-01-22\",\"2022-01-29\",\"2022-02-05\",\"2022-02-12\",\"2022-02-19\",\"2022-02-26\",\"2022-03-05\",\"2022-03-12\",\"2022-03-19\",\"2022-03-26\",\"2022-04-02\",\"2022-04-09\",\"2022-04-16\",\"2022-04-23\",\"2022-04-30\",\"2022-05-07\",\"2022-05-14\",\"2022-05-21\",\"2022-05-28\",\"2022-06-04\",\"2022-06-11\",\"2022-06-18\",\"2022-06-25\",\"2022-07-02\",\"2022-07-09\",\"2022-07-16\",\"2022-07-23\",\"2022-07-30\",\"2022-08-06\",\"2022-08-13\",\"2022-08-20\",\"2022-08-27\",\"2022-09-03\",\"2022-09-10\",\"2022-09-17\",\"2022-09-24\",\"2022-10-01\",\"2022-10-08\",\"2022-10-15\"],\"xaxis\":\"x\",\"y\":[0,0,0,0,0,0,0,0,0,0,0,0,0,0,0,0,0,0,0,0,0,0,0,1,0,1,1,3,0,0,2,0,3,2,2,0,0,0,3,0],\"yaxis\":\"y\",\"type\":\"scattergl\"},{\"hovertemplate\":\"attacked_country=Slovakia<br>week=%{x}<br>count=%{y}<extra></extra>\",\"legendgroup\":\"Slovakia\",\"line\":{\"color\":\"#FF97FF\",\"dash\":\"solid\"},\"marker\":{\"symbol\":\"circle\"},\"mode\":\"lines\",\"name\":\"Slovakia\",\"showlegend\":true,\"x\":[\"2022-01-15\",\"2022-01-22\",\"2022-01-29\",\"2022-02-05\",\"2022-02-12\",\"2022-02-19\",\"2022-02-26\",\"2022-03-05\",\"2022-03-12\",\"2022-03-19\",\"2022-03-26\",\"2022-04-02\",\"2022-04-09\",\"2022-04-16\",\"2022-04-23\",\"2022-04-30\",\"2022-05-07\",\"2022-05-14\",\"2022-05-21\",\"2022-05-28\",\"2022-06-04\",\"2022-06-11\",\"2022-06-18\",\"2022-06-25\",\"2022-07-02\",\"2022-07-09\",\"2022-07-16\",\"2022-07-23\",\"2022-07-30\",\"2022-08-06\",\"2022-08-13\",\"2022-08-20\",\"2022-08-27\",\"2022-09-03\",\"2022-09-10\",\"2022-09-17\",\"2022-09-24\",\"2022-10-01\",\"2022-10-08\",\"2022-10-15\"],\"xaxis\":\"x\",\"y\":[0,0,0,0,0,0,0,0,0,0,0,0,0,0,0,0,0,0,0,0,0,0,1,0,0,0,0,0,0,0,0,0,0,0,0,0,0,0,0,0],\"yaxis\":\"y\",\"type\":\"scattergl\"},{\"hovertemplate\":\"attacked_country=Italy<br>week=%{x}<br>count=%{y}<extra></extra>\",\"legendgroup\":\"Italy\",\"line\":{\"color\":\"#FECB52\",\"dash\":\"solid\"},\"marker\":{\"symbol\":\"circle\"},\"mode\":\"lines\",\"name\":\"Italy\",\"showlegend\":true,\"x\":[\"2022-01-15\",\"2022-01-22\",\"2022-01-29\",\"2022-02-05\",\"2022-02-12\",\"2022-02-19\",\"2022-02-26\",\"2022-03-05\",\"2022-03-12\",\"2022-03-19\",\"2022-03-26\",\"2022-04-02\",\"2022-04-09\",\"2022-04-16\",\"2022-04-23\",\"2022-04-30\",\"2022-05-07\",\"2022-05-14\",\"2022-05-21\",\"2022-05-28\",\"2022-06-04\",\"2022-06-11\",\"2022-06-18\",\"2022-06-25\",\"2022-07-02\",\"2022-07-09\",\"2022-07-16\",\"2022-07-23\",\"2022-07-30\",\"2022-08-06\",\"2022-08-13\",\"2022-08-20\",\"2022-08-27\",\"2022-09-03\",\"2022-09-10\",\"2022-09-17\",\"2022-09-24\",\"2022-10-01\",\"2022-10-08\",\"2022-10-15\"],\"xaxis\":\"x\",\"y\":[0,0,0,0,0,0,0,0,0,0,0,0,0,0,0,0,0,2,5,0,0,0,0,0,0,0,0,0,1,0,0,0,0,0,0,0,0,0,0,0],\"yaxis\":\"y\",\"type\":\"scattergl\"},{\"hovertemplate\":\"attacked_country=Latvia<br>week=%{x}<br>count=%{y}<extra></extra>\",\"legendgroup\":\"Latvia\",\"line\":{\"color\":\"#636efa\",\"dash\":\"solid\"},\"marker\":{\"symbol\":\"circle\"},\"mode\":\"lines\",\"name\":\"Latvia\",\"showlegend\":true,\"x\":[\"2022-01-15\",\"2022-01-22\",\"2022-01-29\",\"2022-02-05\",\"2022-02-12\",\"2022-02-19\",\"2022-02-26\",\"2022-03-05\",\"2022-03-12\",\"2022-03-19\",\"2022-03-26\",\"2022-04-02\",\"2022-04-09\",\"2022-04-16\",\"2022-04-23\",\"2022-04-30\",\"2022-05-07\",\"2022-05-14\",\"2022-05-21\",\"2022-05-28\",\"2022-06-04\",\"2022-06-11\",\"2022-06-18\",\"2022-06-25\",\"2022-07-02\",\"2022-07-09\",\"2022-07-16\",\"2022-07-23\",\"2022-07-30\",\"2022-08-06\",\"2022-08-13\",\"2022-08-20\",\"2022-08-27\",\"2022-09-03\",\"2022-09-10\",\"2022-09-17\",\"2022-09-24\",\"2022-10-01\",\"2022-10-08\",\"2022-10-15\"],\"xaxis\":\"x\",\"y\":[0,0,0,0,0,0,0,0,0,0,0,0,0,0,0,0,1,4,3,0,1,0,0,0,0,4,0,0,1,0,9,1,4,0,0,1,1,0,1,0],\"yaxis\":\"y\",\"type\":\"scattergl\"},{\"hovertemplate\":\"attacked_country=Moldova<br>week=%{x}<br>count=%{y}<extra></extra>\",\"legendgroup\":\"Moldova\",\"line\":{\"color\":\"#EF553B\",\"dash\":\"solid\"},\"marker\":{\"symbol\":\"circle\"},\"mode\":\"lines\",\"name\":\"Moldova\",\"showlegend\":true,\"x\":[\"2022-01-15\",\"2022-01-22\",\"2022-01-29\",\"2022-02-05\",\"2022-02-12\",\"2022-02-19\",\"2022-02-26\",\"2022-03-05\",\"2022-03-12\",\"2022-03-19\",\"2022-03-26\",\"2022-04-02\",\"2022-04-09\",\"2022-04-16\",\"2022-04-23\",\"2022-04-30\",\"2022-05-07\",\"2022-05-14\",\"2022-05-21\",\"2022-05-28\",\"2022-06-04\",\"2022-06-11\",\"2022-06-18\",\"2022-06-25\",\"2022-07-02\",\"2022-07-09\",\"2022-07-16\",\"2022-07-23\",\"2022-07-30\",\"2022-08-06\",\"2022-08-13\",\"2022-08-20\",\"2022-08-27\",\"2022-09-03\",\"2022-09-10\",\"2022-09-17\",\"2022-09-24\",\"2022-10-01\",\"2022-10-08\",\"2022-10-15\"],\"xaxis\":\"x\",\"y\":[0,0,0,0,0,0,0,0,0,0,0,0,0,0,0,1,0,0,0,0,0,0,0,0,0,0,0,0,0,0,0,0,1,0,0,0,0,0,0,0],\"yaxis\":\"y\",\"type\":\"scattergl\"},{\"hovertemplate\":\"attacked_country=Czech Republic<br>week=%{x}<br>count=%{y}<extra></extra>\",\"legendgroup\":\"Czech Republic\",\"line\":{\"color\":\"#00cc96\",\"dash\":\"solid\"},\"marker\":{\"symbol\":\"circle\"},\"mode\":\"lines\",\"name\":\"Czech Republic\",\"showlegend\":true,\"x\":[\"2022-01-15\",\"2022-01-22\",\"2022-01-29\",\"2022-02-05\",\"2022-02-12\",\"2022-02-19\",\"2022-02-26\",\"2022-03-05\",\"2022-03-12\",\"2022-03-19\",\"2022-03-26\",\"2022-04-02\",\"2022-04-09\",\"2022-04-16\",\"2022-04-23\",\"2022-04-30\",\"2022-05-07\",\"2022-05-14\",\"2022-05-21\",\"2022-05-28\",\"2022-06-04\",\"2022-06-11\",\"2022-06-18\",\"2022-06-25\",\"2022-07-02\",\"2022-07-09\",\"2022-07-16\",\"2022-07-23\",\"2022-07-30\",\"2022-08-06\",\"2022-08-13\",\"2022-08-20\",\"2022-08-27\",\"2022-09-03\",\"2022-09-10\",\"2022-09-17\",\"2022-09-24\",\"2022-10-01\",\"2022-10-08\",\"2022-10-15\"],\"xaxis\":\"x\",\"y\":[0,0,0,0,0,0,0,0,0,0,0,0,0,0,2,1,0,0,0,0,0,0,0,0,0,0,0,1,0,0,0,0,0,0,0,0,0,11,0,0],\"yaxis\":\"y\",\"type\":\"scattergl\"},{\"hovertemplate\":\"attacked_country=United Kingdom<br>week=%{x}<br>count=%{y}<extra></extra>\",\"legendgroup\":\"United Kingdom\",\"line\":{\"color\":\"#ab63fa\",\"dash\":\"solid\"},\"marker\":{\"symbol\":\"circle\"},\"mode\":\"lines\",\"name\":\"United Kingdom\",\"showlegend\":true,\"x\":[\"2022-01-15\",\"2022-01-22\",\"2022-01-29\",\"2022-02-05\",\"2022-02-12\",\"2022-02-19\",\"2022-02-26\",\"2022-03-05\",\"2022-03-12\",\"2022-03-19\",\"2022-03-26\",\"2022-04-02\",\"2022-04-09\",\"2022-04-16\",\"2022-04-23\",\"2022-04-30\",\"2022-05-07\",\"2022-05-14\",\"2022-05-21\",\"2022-05-28\",\"2022-06-04\",\"2022-06-11\",\"2022-06-18\",\"2022-06-25\",\"2022-07-02\",\"2022-07-09\",\"2022-07-16\",\"2022-07-23\",\"2022-07-30\",\"2022-08-06\",\"2022-08-13\",\"2022-08-20\",\"2022-08-27\",\"2022-09-03\",\"2022-09-10\",\"2022-09-17\",\"2022-09-24\",\"2022-10-01\",\"2022-10-08\",\"2022-10-15\"],\"xaxis\":\"x\",\"y\":[0,0,0,0,0,0,0,0,0,0,0,0,0,1,1,0,0,0,0,0,0,0,0,0,0,0,0,0,0,0,0,0,0,0,0,0,1,1,0,0],\"yaxis\":\"y\",\"type\":\"scattergl\"},{\"hovertemplate\":\"attacked_country=Finland<br>week=%{x}<br>count=%{y}<extra></extra>\",\"legendgroup\":\"Finland\",\"line\":{\"color\":\"#FFA15A\",\"dash\":\"solid\"},\"marker\":{\"symbol\":\"circle\"},\"mode\":\"lines\",\"name\":\"Finland\",\"showlegend\":true,\"x\":[\"2022-01-15\",\"2022-01-22\",\"2022-01-29\",\"2022-02-05\",\"2022-02-12\",\"2022-02-19\",\"2022-02-26\",\"2022-03-05\",\"2022-03-12\",\"2022-03-19\",\"2022-03-26\",\"2022-04-02\",\"2022-04-09\",\"2022-04-16\",\"2022-04-23\",\"2022-04-30\",\"2022-05-07\",\"2022-05-14\",\"2022-05-21\",\"2022-05-28\",\"2022-06-04\",\"2022-06-11\",\"2022-06-18\",\"2022-06-25\",\"2022-07-02\",\"2022-07-09\",\"2022-07-16\",\"2022-07-23\",\"2022-07-30\",\"2022-08-06\",\"2022-08-13\",\"2022-08-20\",\"2022-08-27\",\"2022-09-03\",\"2022-09-10\",\"2022-09-17\",\"2022-09-24\",\"2022-10-01\",\"2022-10-08\",\"2022-10-15\"],\"xaxis\":\"x\",\"y\":[0,0,0,0,0,0,0,0,0,0,0,0,1,0,0,0,0,0,0,0,0,0,0,0,0,0,0,0,0,0,1,0,0,0,0,0,0,0,0,0],\"yaxis\":\"y\",\"type\":\"scattergl\"},{\"hovertemplate\":\"attacked_country=Estonia<br>week=%{x}<br>count=%{y}<extra></extra>\",\"legendgroup\":\"Estonia\",\"line\":{\"color\":\"#19d3f3\",\"dash\":\"solid\"},\"marker\":{\"symbol\":\"circle\"},\"mode\":\"lines\",\"name\":\"Estonia\",\"showlegend\":true,\"x\":[\"2022-01-15\",\"2022-01-22\",\"2022-01-29\",\"2022-02-05\",\"2022-02-12\",\"2022-02-19\",\"2022-02-26\",\"2022-03-05\",\"2022-03-12\",\"2022-03-19\",\"2022-03-26\",\"2022-04-02\",\"2022-04-09\",\"2022-04-16\",\"2022-04-23\",\"2022-04-30\",\"2022-05-07\",\"2022-05-14\",\"2022-05-21\",\"2022-05-28\",\"2022-06-04\",\"2022-06-11\",\"2022-06-18\",\"2022-06-25\",\"2022-07-02\",\"2022-07-09\",\"2022-07-16\",\"2022-07-23\",\"2022-07-30\",\"2022-08-06\",\"2022-08-13\",\"2022-08-20\",\"2022-08-27\",\"2022-09-03\",\"2022-09-10\",\"2022-09-17\",\"2022-09-24\",\"2022-10-01\",\"2022-10-08\",\"2022-10-15\"],\"xaxis\":\"x\",\"y\":[0,0,0,0,0,0,0,0,0,0,0,1,0,0,1,0,0,0,0,0,0,0,0,0,1,0,0,0,0,0,0,12,0,0,1,0,0,0,5,0],\"yaxis\":\"y\",\"type\":\"scattergl\"},{\"hovertemplate\":\"attacked_country=Bulgaria<br>week=%{x}<br>count=%{y}<extra></extra>\",\"legendgroup\":\"Bulgaria\",\"line\":{\"color\":\"#FF6692\",\"dash\":\"solid\"},\"marker\":{\"symbol\":\"circle\"},\"mode\":\"lines\",\"name\":\"Bulgaria\",\"showlegend\":true,\"x\":[\"2022-01-15\",\"2022-01-22\",\"2022-01-29\",\"2022-02-05\",\"2022-02-12\",\"2022-02-19\",\"2022-02-26\",\"2022-03-05\",\"2022-03-12\",\"2022-03-19\",\"2022-03-26\",\"2022-04-02\",\"2022-04-09\",\"2022-04-16\",\"2022-04-23\",\"2022-04-30\",\"2022-05-07\",\"2022-05-14\",\"2022-05-21\",\"2022-05-28\",\"2022-06-04\",\"2022-06-11\",\"2022-06-18\",\"2022-06-25\",\"2022-07-02\",\"2022-07-09\",\"2022-07-16\",\"2022-07-23\",\"2022-07-30\",\"2022-08-06\",\"2022-08-13\",\"2022-08-20\",\"2022-08-27\",\"2022-09-03\",\"2022-09-10\",\"2022-09-17\",\"2022-09-24\",\"2022-10-01\",\"2022-10-08\",\"2022-10-15\"],\"xaxis\":\"x\",\"y\":[0,0,0,0,0,0,0,0,0,0,0,1,0,1,0,0,0,0,0,0,0,0,0,0,0,0,0,0,0,0,0,0,0,0,0,0,0,0,0,0],\"yaxis\":\"y\",\"type\":\"scattergl\"},{\"hovertemplate\":\"attacked_country=Sweden<br>week=%{x}<br>count=%{y}<extra></extra>\",\"legendgroup\":\"Sweden\",\"line\":{\"color\":\"#B6E880\",\"dash\":\"solid\"},\"marker\":{\"symbol\":\"circle\"},\"mode\":\"lines\",\"name\":\"Sweden\",\"showlegend\":true,\"x\":[\"2022-01-15\",\"2022-01-22\",\"2022-01-29\",\"2022-02-05\",\"2022-02-12\",\"2022-02-19\",\"2022-02-26\",\"2022-03-05\",\"2022-03-12\",\"2022-03-19\",\"2022-03-26\",\"2022-04-02\",\"2022-04-09\",\"2022-04-16\",\"2022-04-23\",\"2022-04-30\",\"2022-05-07\",\"2022-05-14\",\"2022-05-21\",\"2022-05-28\",\"2022-06-04\",\"2022-06-11\",\"2022-06-18\",\"2022-06-25\",\"2022-07-02\",\"2022-07-09\",\"2022-07-16\",\"2022-07-23\",\"2022-07-30\",\"2022-08-06\",\"2022-08-13\",\"2022-08-20\",\"2022-08-27\",\"2022-09-03\",\"2022-09-10\",\"2022-09-17\",\"2022-09-24\",\"2022-10-01\",\"2022-10-08\",\"2022-10-15\"],\"xaxis\":\"x\",\"y\":[0,0,0,0,0,0,0,0,0,0,2,0,0,0,0,0,0,0,0,0,0,0,0,0,0,0,0,0,0,0,0,0,0,0,0,0,0,0,0,0],\"yaxis\":\"y\",\"type\":\"scattergl\"},{\"hovertemplate\":\"attacked_country=Poland<br>week=%{x}<br>count=%{y}<extra></extra>\",\"legendgroup\":\"Poland\",\"line\":{\"color\":\"#FF97FF\",\"dash\":\"solid\"},\"marker\":{\"symbol\":\"circle\"},\"mode\":\"lines\",\"name\":\"Poland\",\"showlegend\":true,\"x\":[\"2022-01-15\",\"2022-01-22\",\"2022-01-29\",\"2022-02-05\",\"2022-02-12\",\"2022-02-19\",\"2022-02-26\",\"2022-03-05\",\"2022-03-12\",\"2022-03-19\",\"2022-03-26\",\"2022-04-02\",\"2022-04-09\",\"2022-04-16\",\"2022-04-23\",\"2022-04-30\",\"2022-05-07\",\"2022-05-14\",\"2022-05-21\",\"2022-05-28\",\"2022-06-04\",\"2022-06-11\",\"2022-06-18\",\"2022-06-25\",\"2022-07-02\",\"2022-07-09\",\"2022-07-16\",\"2022-07-23\",\"2022-07-30\",\"2022-08-06\",\"2022-08-13\",\"2022-08-20\",\"2022-08-27\",\"2022-09-03\",\"2022-09-10\",\"2022-09-17\",\"2022-09-24\",\"2022-10-01\",\"2022-10-08\",\"2022-10-15\"],\"xaxis\":\"x\",\"y\":[0,0,0,0,0,0,0,0,0,0,1,0,0,1,0,0,0,0,0,0,0,0,0,0,0,1,0,1,3,4,1,5,1,0,1,3,0,5,0,0],\"yaxis\":\"y\",\"type\":\"scattergl\"},{\"hovertemplate\":\"attacked_country=Croatia<br>week=%{x}<br>count=%{y}<extra></extra>\",\"legendgroup\":\"Croatia\",\"line\":{\"color\":\"#FECB52\",\"dash\":\"solid\"},\"marker\":{\"symbol\":\"circle\"},\"mode\":\"lines\",\"name\":\"Croatia\",\"showlegend\":true,\"x\":[\"2022-01-15\",\"2022-01-22\",\"2022-01-29\",\"2022-02-05\",\"2022-02-12\",\"2022-02-19\",\"2022-02-26\",\"2022-03-05\",\"2022-03-12\",\"2022-03-19\",\"2022-03-26\",\"2022-04-02\",\"2022-04-09\",\"2022-04-16\",\"2022-04-23\",\"2022-04-30\",\"2022-05-07\",\"2022-05-14\",\"2022-05-21\",\"2022-05-28\",\"2022-06-04\",\"2022-06-11\",\"2022-06-18\",\"2022-06-25\",\"2022-07-02\",\"2022-07-09\",\"2022-07-16\",\"2022-07-23\",\"2022-07-30\",\"2022-08-06\",\"2022-08-13\",\"2022-08-20\",\"2022-08-27\",\"2022-09-03\",\"2022-09-10\",\"2022-09-17\",\"2022-09-24\",\"2022-10-01\",\"2022-10-08\",\"2022-10-15\"],\"xaxis\":\"x\",\"y\":[0,0,0,0,0,0,0,0,0,0,1,0,0,0,0,0,0,0,0,0,0,0,0,0,0,0,0,0,0,0,0,0,0,0,0,0,0,0,0,0],\"yaxis\":\"y\",\"type\":\"scattergl\"},{\"hovertemplate\":\"attacked_country=Spain<br>week=%{x}<br>count=%{y}<extra></extra>\",\"legendgroup\":\"Spain\",\"line\":{\"color\":\"#636efa\",\"dash\":\"solid\"},\"marker\":{\"symbol\":\"circle\"},\"mode\":\"lines\",\"name\":\"Spain\",\"showlegend\":true,\"x\":[\"2022-01-15\",\"2022-01-22\",\"2022-01-29\",\"2022-02-05\",\"2022-02-12\",\"2022-02-19\",\"2022-02-26\",\"2022-03-05\",\"2022-03-12\",\"2022-03-19\",\"2022-03-26\",\"2022-04-02\",\"2022-04-09\",\"2022-04-16\",\"2022-04-23\",\"2022-04-30\",\"2022-05-07\",\"2022-05-14\",\"2022-05-21\",\"2022-05-28\",\"2022-06-04\",\"2022-06-11\",\"2022-06-18\",\"2022-06-25\",\"2022-07-02\",\"2022-07-09\",\"2022-07-16\",\"2022-07-23\",\"2022-07-30\",\"2022-08-06\",\"2022-08-13\",\"2022-08-20\",\"2022-08-27\",\"2022-09-03\",\"2022-09-10\",\"2022-09-17\",\"2022-09-24\",\"2022-10-01\",\"2022-10-08\",\"2022-10-15\"],\"xaxis\":\"x\",\"y\":[0,0,0,0,0,0,0,0,0,2,0,0,0,0,0,0,0,0,0,0,0,0,0,0,0,0,0,0,0,0,0,0,0,0,0,0,0,0,0,0],\"yaxis\":\"y\",\"type\":\"scattergl\"},{\"hovertemplate\":\"attacked_country=Israel<br>week=%{x}<br>count=%{y}<extra></extra>\",\"legendgroup\":\"Israel\",\"line\":{\"color\":\"#EF553B\",\"dash\":\"solid\"},\"marker\":{\"symbol\":\"circle\"},\"mode\":\"lines\",\"name\":\"Israel\",\"showlegend\":true,\"x\":[\"2022-01-15\",\"2022-01-22\",\"2022-01-29\",\"2022-02-05\",\"2022-02-12\",\"2022-02-19\",\"2022-02-26\",\"2022-03-05\",\"2022-03-12\",\"2022-03-19\",\"2022-03-26\",\"2022-04-02\",\"2022-04-09\",\"2022-04-16\",\"2022-04-23\",\"2022-04-30\",\"2022-05-07\",\"2022-05-14\",\"2022-05-21\",\"2022-05-28\",\"2022-06-04\",\"2022-06-11\",\"2022-06-18\",\"2022-06-25\",\"2022-07-02\",\"2022-07-09\",\"2022-07-16\",\"2022-07-23\",\"2022-07-30\",\"2022-08-06\",\"2022-08-13\",\"2022-08-20\",\"2022-08-27\",\"2022-09-03\",\"2022-09-10\",\"2022-09-17\",\"2022-09-24\",\"2022-10-01\",\"2022-10-08\",\"2022-10-15\"],\"xaxis\":\"x\",\"y\":[0,0,0,0,0,0,0,0,0,1,0,0,0,0,0,0,0,0,0,0,0,0,0,0,0,0,0,0,0,0,0,0,0,0,0,0,0,0,0,0],\"yaxis\":\"y\",\"type\":\"scattergl\"},{\"hovertemplate\":\"attacked_country=Switzerland<br>week=%{x}<br>count=%{y}<extra></extra>\",\"legendgroup\":\"Switzerland\",\"line\":{\"color\":\"#00cc96\",\"dash\":\"solid\"},\"marker\":{\"symbol\":\"circle\"},\"mode\":\"lines\",\"name\":\"Switzerland\",\"showlegend\":true,\"x\":[\"2022-01-15\",\"2022-01-22\",\"2022-01-29\",\"2022-02-05\",\"2022-02-12\",\"2022-02-19\",\"2022-02-26\",\"2022-03-05\",\"2022-03-12\",\"2022-03-19\",\"2022-03-26\",\"2022-04-02\",\"2022-04-09\",\"2022-04-16\",\"2022-04-23\",\"2022-04-30\",\"2022-05-07\",\"2022-05-14\",\"2022-05-21\",\"2022-05-28\",\"2022-06-04\",\"2022-06-11\",\"2022-06-18\",\"2022-06-25\",\"2022-07-02\",\"2022-07-09\",\"2022-07-16\",\"2022-07-23\",\"2022-07-30\",\"2022-08-06\",\"2022-08-13\",\"2022-08-20\",\"2022-08-27\",\"2022-09-03\",\"2022-09-10\",\"2022-09-17\",\"2022-09-24\",\"2022-10-01\",\"2022-10-08\",\"2022-10-15\"],\"xaxis\":\"x\",\"y\":[0,0,0,0,0,0,0,1,0,0,0,0,0,0,0,0,0,0,0,0,0,0,0,0,0,0,0,0,0,0,1,0,0,0,0,0,0,0,1,0],\"yaxis\":\"y\",\"type\":\"scattergl\"},{\"hovertemplate\":\"attacked_country=France<br>week=%{x}<br>count=%{y}<extra></extra>\",\"legendgroup\":\"France\",\"line\":{\"color\":\"#ab63fa\",\"dash\":\"solid\"},\"marker\":{\"symbol\":\"circle\"},\"mode\":\"lines\",\"name\":\"France\",\"showlegend\":true,\"x\":[\"2022-01-15\",\"2022-01-22\",\"2022-01-29\",\"2022-02-05\",\"2022-02-12\",\"2022-02-19\",\"2022-02-26\",\"2022-03-05\",\"2022-03-12\",\"2022-03-19\",\"2022-03-26\",\"2022-04-02\",\"2022-04-09\",\"2022-04-16\",\"2022-04-23\",\"2022-04-30\",\"2022-05-07\",\"2022-05-14\",\"2022-05-21\",\"2022-05-28\",\"2022-06-04\",\"2022-06-11\",\"2022-06-18\",\"2022-06-25\",\"2022-07-02\",\"2022-07-09\",\"2022-07-16\",\"2022-07-23\",\"2022-07-30\",\"2022-08-06\",\"2022-08-13\",\"2022-08-20\",\"2022-08-27\",\"2022-09-03\",\"2022-09-10\",\"2022-09-17\",\"2022-09-24\",\"2022-10-01\",\"2022-10-08\",\"2022-10-15\"],\"xaxis\":\"x\",\"y\":[0,0,0,0,0,0,0,2,0,0,0,0,0,1,0,0,0,0,0,0,0,0,0,0,0,0,0,0,0,0,0,0,0,0,0,0,1,0,0,0],\"yaxis\":\"y\",\"type\":\"scattergl\"},{\"hovertemplate\":\"attacked_country=Anonymous<br>week=%{x}<br>count=%{y}<extra></extra>\",\"legendgroup\":\"Anonymous\",\"line\":{\"color\":\"#FFA15A\",\"dash\":\"solid\"},\"marker\":{\"symbol\":\"circle\"},\"mode\":\"lines\",\"name\":\"Anonymous\",\"showlegend\":true,\"x\":[\"2022-01-15\",\"2022-01-22\",\"2022-01-29\",\"2022-02-05\",\"2022-02-12\",\"2022-02-19\",\"2022-02-26\",\"2022-03-05\",\"2022-03-12\",\"2022-03-19\",\"2022-03-26\",\"2022-04-02\",\"2022-04-09\",\"2022-04-16\",\"2022-04-23\",\"2022-04-30\",\"2022-05-07\",\"2022-05-14\",\"2022-05-21\",\"2022-05-28\",\"2022-06-04\",\"2022-06-11\",\"2022-06-18\",\"2022-06-25\",\"2022-07-02\",\"2022-07-09\",\"2022-07-16\",\"2022-07-23\",\"2022-07-30\",\"2022-08-06\",\"2022-08-13\",\"2022-08-20\",\"2022-08-27\",\"2022-09-03\",\"2022-09-10\",\"2022-09-17\",\"2022-09-24\",\"2022-10-01\",\"2022-10-08\",\"2022-10-15\"],\"xaxis\":\"x\",\"y\":[0,0,0,0,0,0,0,1,0,0,0,0,0,0,0,0,0,0,0,0,0,0,0,0,0,0,0,0,0,0,0,0,0,0,0,0,0,0,0,0],\"yaxis\":\"y\",\"type\":\"scattergl\"},{\"hovertemplate\":\"attacked_country=Russian Federation<br>week=%{x}<br>count=%{y}<extra></extra>\",\"legendgroup\":\"Russian Federation\",\"line\":{\"color\":\"#19d3f3\",\"dash\":\"solid\"},\"marker\":{\"symbol\":\"circle\"},\"mode\":\"lines\",\"name\":\"Russian Federation\",\"showlegend\":true,\"x\":[\"2022-01-15\",\"2022-01-22\",\"2022-01-29\",\"2022-02-05\",\"2022-02-12\",\"2022-02-19\",\"2022-02-26\",\"2022-03-05\",\"2022-03-12\",\"2022-03-19\",\"2022-03-26\",\"2022-04-02\",\"2022-04-09\",\"2022-04-16\",\"2022-04-23\",\"2022-04-30\",\"2022-05-07\",\"2022-05-14\",\"2022-05-21\",\"2022-05-28\",\"2022-06-04\",\"2022-06-11\",\"2022-06-18\",\"2022-06-25\",\"2022-07-02\",\"2022-07-09\",\"2022-07-16\",\"2022-07-23\",\"2022-07-30\",\"2022-08-06\",\"2022-08-13\",\"2022-08-20\",\"2022-08-27\",\"2022-09-03\",\"2022-09-10\",\"2022-09-17\",\"2022-09-24\",\"2022-10-01\",\"2022-10-08\",\"2022-10-15\"],\"xaxis\":\"x\",\"y\":[0,0,0,0,0,0,9,5,6,4,11,10,9,7,9,3,3,4,1,0,4,7,3,1,2,1,0,2,4,2,4,7,7,3,3,6,4,1,4,0],\"yaxis\":\"y\",\"type\":\"scattergl\"},{\"hovertemplate\":\"attacked_country=Romania<br>week=%{x}<br>count=%{y}<extra></extra>\",\"legendgroup\":\"Romania\",\"line\":{\"color\":\"#FF6692\",\"dash\":\"solid\"},\"marker\":{\"symbol\":\"circle\"},\"mode\":\"lines\",\"name\":\"Romania\",\"showlegend\":true,\"x\":[\"2022-01-15\",\"2022-01-22\",\"2022-01-29\",\"2022-02-05\",\"2022-02-12\",\"2022-02-19\",\"2022-02-26\",\"2022-03-05\",\"2022-03-12\",\"2022-03-19\",\"2022-03-26\",\"2022-04-02\",\"2022-04-09\",\"2022-04-16\",\"2022-04-23\",\"2022-04-30\",\"2022-05-07\",\"2022-05-14\",\"2022-05-21\",\"2022-05-28\",\"2022-06-04\",\"2022-06-11\",\"2022-06-18\",\"2022-06-25\",\"2022-07-02\",\"2022-07-09\",\"2022-07-16\",\"2022-07-23\",\"2022-07-30\",\"2022-08-06\",\"2022-08-13\",\"2022-08-20\",\"2022-08-27\",\"2022-09-03\",\"2022-09-10\",\"2022-09-17\",\"2022-09-24\",\"2022-10-01\",\"2022-10-08\",\"2022-10-15\"],\"xaxis\":\"x\",\"y\":[0,0,0,0,0,0,1,0,0,0,0,0,0,0,0,3,0,0,0,0,0,0,0,0,0,0,0,0,0,0,0,0,0,0,0,0,0,0,1,0],\"yaxis\":\"y\",\"type\":\"scattergl\"},{\"hovertemplate\":\"attacked_country=Kazakhstan<br>week=%{x}<br>count=%{y}<extra></extra>\",\"legendgroup\":\"Kazakhstan\",\"line\":{\"color\":\"#B6E880\",\"dash\":\"solid\"},\"marker\":{\"symbol\":\"circle\"},\"mode\":\"lines\",\"name\":\"Kazakhstan\",\"showlegend\":true,\"x\":[\"2022-01-15\",\"2022-01-22\",\"2022-01-29\",\"2022-02-05\",\"2022-02-12\",\"2022-02-19\",\"2022-02-26\",\"2022-03-05\",\"2022-03-12\",\"2022-03-19\",\"2022-03-26\",\"2022-04-02\",\"2022-04-09\",\"2022-04-16\",\"2022-04-23\",\"2022-04-30\",\"2022-05-07\",\"2022-05-14\",\"2022-05-21\",\"2022-05-28\",\"2022-06-04\",\"2022-06-11\",\"2022-06-18\",\"2022-06-25\",\"2022-07-02\",\"2022-07-09\",\"2022-07-16\",\"2022-07-23\",\"2022-07-30\",\"2022-08-06\",\"2022-08-13\",\"2022-08-20\",\"2022-08-27\",\"2022-09-03\",\"2022-09-10\",\"2022-09-17\",\"2022-09-24\",\"2022-10-01\",\"2022-10-08\",\"2022-10-15\"],\"xaxis\":\"x\",\"y\":[0,0,0,0,0,0,1,0,0,0,0,0,0,0,0,0,0,0,0,0,0,0,0,0,0,0,0,0,0,0,0,0,0,0,0,0,0,1,0,0],\"yaxis\":\"y\",\"type\":\"scattergl\"},{\"hovertemplate\":\"attacked_country=United States<br>week=%{x}<br>count=%{y}<extra></extra>\",\"legendgroup\":\"United States\",\"line\":{\"color\":\"#FF97FF\",\"dash\":\"solid\"},\"marker\":{\"symbol\":\"circle\"},\"mode\":\"lines\",\"name\":\"United States\",\"showlegend\":true,\"x\":[\"2022-01-15\",\"2022-01-22\",\"2022-01-29\",\"2022-02-05\",\"2022-02-12\",\"2022-02-19\",\"2022-02-26\",\"2022-03-05\",\"2022-03-12\",\"2022-03-19\",\"2022-03-26\",\"2022-04-02\",\"2022-04-09\",\"2022-04-16\",\"2022-04-23\",\"2022-04-30\",\"2022-05-07\",\"2022-05-14\",\"2022-05-21\",\"2022-05-28\",\"2022-06-04\",\"2022-06-11\",\"2022-06-18\",\"2022-06-25\",\"2022-07-02\",\"2022-07-09\",\"2022-07-16\",\"2022-07-23\",\"2022-07-30\",\"2022-08-06\",\"2022-08-13\",\"2022-08-20\",\"2022-08-27\",\"2022-09-03\",\"2022-09-10\",\"2022-09-17\",\"2022-09-24\",\"2022-10-01\",\"2022-10-08\",\"2022-10-15\"],\"xaxis\":\"x\",\"y\":[0,0,0,0,1,0,0,1,0,0,1,1,1,1,0,0,0,0,0,0,0,1,0,0,1,1,0,1,0,1,0,0,0,0,0,0,1,1,2,2],\"yaxis\":\"y\",\"type\":\"scattergl\"},{\"hovertemplate\":\"attacked_country=Germany<br>week=%{x}<br>count=%{y}<extra></extra>\",\"legendgroup\":\"Germany\",\"line\":{\"color\":\"#FECB52\",\"dash\":\"solid\"},\"marker\":{\"symbol\":\"circle\"},\"mode\":\"lines\",\"name\":\"Germany\",\"showlegend\":true,\"x\":[\"2022-01-15\",\"2022-01-22\",\"2022-01-29\",\"2022-02-05\",\"2022-02-12\",\"2022-02-19\",\"2022-02-26\",\"2022-03-05\",\"2022-03-12\",\"2022-03-19\",\"2022-03-26\",\"2022-04-02\",\"2022-04-09\",\"2022-04-16\",\"2022-04-23\",\"2022-04-30\",\"2022-05-07\",\"2022-05-14\",\"2022-05-21\",\"2022-05-28\",\"2022-06-04\",\"2022-06-11\",\"2022-06-18\",\"2022-06-25\",\"2022-07-02\",\"2022-07-09\",\"2022-07-16\",\"2022-07-23\",\"2022-07-30\",\"2022-08-06\",\"2022-08-13\",\"2022-08-20\",\"2022-08-27\",\"2022-09-03\",\"2022-09-10\",\"2022-09-17\",\"2022-09-24\",\"2022-10-01\",\"2022-10-08\",\"2022-10-15\"],\"xaxis\":\"x\",\"y\":[0,0,1,0,0,0,0,0,1,0,0,1,1,5,0,2,0,0,0,0,0,0,1,0,0,0,1,0,0,0,0,0,0,1,0,0,5,0,0,0],\"yaxis\":\"y\",\"type\":\"scattergl\"},{\"hovertemplate\":\"attacked_country=Armenia<br>week=%{x}<br>count=%{y}<extra></extra>\",\"legendgroup\":\"Armenia\",\"line\":{\"color\":\"#636efa\",\"dash\":\"solid\"},\"marker\":{\"symbol\":\"circle\"},\"mode\":\"lines\",\"name\":\"Armenia\",\"showlegend\":true,\"x\":[\"2022-01-15\",\"2022-01-22\",\"2022-01-29\",\"2022-02-05\",\"2022-02-12\",\"2022-02-19\",\"2022-02-26\",\"2022-03-05\",\"2022-03-12\",\"2022-03-19\",\"2022-03-26\",\"2022-04-02\",\"2022-04-09\",\"2022-04-16\",\"2022-04-23\",\"2022-04-30\",\"2022-05-07\",\"2022-05-14\",\"2022-05-21\",\"2022-05-28\",\"2022-06-04\",\"2022-06-11\",\"2022-06-18\",\"2022-06-25\",\"2022-07-02\",\"2022-07-09\",\"2022-07-16\",\"2022-07-23\",\"2022-07-30\",\"2022-08-06\",\"2022-08-13\",\"2022-08-20\",\"2022-08-27\",\"2022-09-03\",\"2022-09-10\",\"2022-09-17\",\"2022-09-24\",\"2022-10-01\",\"2022-10-08\",\"2022-10-15\"],\"xaxis\":\"x\",\"y\":[0,0,0,0,0,0,0,0,0,0,0,0,0,0,0,0,0,0,0,0,0,0,0,0,0,0,0,0,0,0,0,0,0,0,0,0,0,1,0,0],\"yaxis\":\"y\",\"type\":\"scattergl\"},{\"hovertemplate\":\"attacked_country=Canada<br>week=%{x}<br>count=%{y}<extra></extra>\",\"legendgroup\":\"Canada\",\"line\":{\"color\":\"#EF553B\",\"dash\":\"solid\"},\"marker\":{\"symbol\":\"circle\"},\"mode\":\"lines\",\"name\":\"Canada\",\"showlegend\":true,\"x\":[\"2022-01-15\",\"2022-01-22\",\"2022-01-29\",\"2022-02-05\",\"2022-02-12\",\"2022-02-19\",\"2022-02-26\",\"2022-03-05\",\"2022-03-12\",\"2022-03-19\",\"2022-03-26\",\"2022-04-02\",\"2022-04-09\",\"2022-04-16\",\"2022-04-23\",\"2022-04-30\",\"2022-05-07\",\"2022-05-14\",\"2022-05-21\",\"2022-05-28\",\"2022-06-04\",\"2022-06-11\",\"2022-06-18\",\"2022-06-25\",\"2022-07-02\",\"2022-07-09\",\"2022-07-16\",\"2022-07-23\",\"2022-07-30\",\"2022-08-06\",\"2022-08-13\",\"2022-08-20\",\"2022-08-27\",\"2022-09-03\",\"2022-09-10\",\"2022-09-17\",\"2022-09-24\",\"2022-10-01\",\"2022-10-08\",\"2022-10-15\"],\"xaxis\":\"x\",\"y\":[0,1,0,0,0,0,0,0,0,1,0,0,0,0,0,0,0,0,0,0,0,0,0,0,0,0,0,0,0,0,0,0,0,0,0,0,0,0,0,3],\"yaxis\":\"y\",\"type\":\"scattergl\"},{\"hovertemplate\":\"attacked_country=Belarus<br>week=%{x}<br>count=%{y}<extra></extra>\",\"legendgroup\":\"Belarus\",\"line\":{\"color\":\"#00cc96\",\"dash\":\"solid\"},\"marker\":{\"symbol\":\"circle\"},\"mode\":\"lines\",\"name\":\"Belarus\",\"showlegend\":true,\"x\":[\"2022-01-15\",\"2022-01-22\",\"2022-01-29\",\"2022-02-05\",\"2022-02-12\",\"2022-02-19\",\"2022-02-26\",\"2022-03-05\",\"2022-03-12\",\"2022-03-19\",\"2022-03-26\",\"2022-04-02\",\"2022-04-09\",\"2022-04-16\",\"2022-04-23\",\"2022-04-30\",\"2022-05-07\",\"2022-05-14\",\"2022-05-21\",\"2022-05-28\",\"2022-06-04\",\"2022-06-11\",\"2022-06-18\",\"2022-06-25\",\"2022-07-02\",\"2022-07-09\",\"2022-07-16\",\"2022-07-23\",\"2022-07-30\",\"2022-08-06\",\"2022-08-13\",\"2022-08-20\",\"2022-08-27\",\"2022-09-03\",\"2022-09-10\",\"2022-09-17\",\"2022-09-24\",\"2022-10-01\",\"2022-10-08\",\"2022-10-15\"],\"xaxis\":\"x\",\"y\":[0,1,0,0,0,0,3,0,0,1,0,1,0,0,1,0,0,0,0,1,0,0,0,0,0,1,0,0,1,0,0,0,0,0,0,0,2,0,0,0],\"yaxis\":\"y\",\"type\":\"scattergl\"},{\"hovertemplate\":\"attacked_country=Ukraine<br>week=%{x}<br>count=%{y}<extra></extra>\",\"legendgroup\":\"Ukraine\",\"line\":{\"color\":\"#ab63fa\",\"dash\":\"solid\"},\"marker\":{\"symbol\":\"circle\"},\"mode\":\"lines\",\"name\":\"Ukraine\",\"showlegend\":true,\"x\":[\"2022-01-15\",\"2022-01-22\",\"2022-01-29\",\"2022-02-05\",\"2022-02-12\",\"2022-02-19\",\"2022-02-26\",\"2022-03-05\",\"2022-03-12\",\"2022-03-19\",\"2022-03-26\",\"2022-04-02\",\"2022-04-09\",\"2022-04-16\",\"2022-04-23\",\"2022-04-30\",\"2022-05-07\",\"2022-05-14\",\"2022-05-21\",\"2022-05-28\",\"2022-06-04\",\"2022-06-11\",\"2022-06-18\",\"2022-06-25\",\"2022-07-02\",\"2022-07-09\",\"2022-07-16\",\"2022-07-23\",\"2022-07-30\",\"2022-08-06\",\"2022-08-13\",\"2022-08-20\",\"2022-08-27\",\"2022-09-03\",\"2022-09-10\",\"2022-09-17\",\"2022-09-24\",\"2022-10-01\",\"2022-10-08\",\"2022-10-15\"],\"xaxis\":\"x\",\"y\":[5,1,0,2,1,3,23,8,6,8,6,5,5,1,2,3,4,2,0,0,2,2,0,1,5,5,2,7,6,4,5,13,7,0,0,11,8,2,2,0],\"yaxis\":\"y\",\"type\":\"scattergl\"}],                        {\"template\":{\"data\":{\"bar\":[{\"error_x\":{\"color\":\"#2a3f5f\"},\"error_y\":{\"color\":\"#2a3f5f\"},\"marker\":{\"line\":{\"color\":\"#E5ECF6\",\"width\":0.5},\"pattern\":{\"fillmode\":\"overlay\",\"size\":10,\"solidity\":0.2}},\"type\":\"bar\"}],\"barpolar\":[{\"marker\":{\"line\":{\"color\":\"#E5ECF6\",\"width\":0.5},\"pattern\":{\"fillmode\":\"overlay\",\"size\":10,\"solidity\":0.2}},\"type\":\"barpolar\"}],\"carpet\":[{\"aaxis\":{\"endlinecolor\":\"#2a3f5f\",\"gridcolor\":\"white\",\"linecolor\":\"white\",\"minorgridcolor\":\"white\",\"startlinecolor\":\"#2a3f5f\"},\"baxis\":{\"endlinecolor\":\"#2a3f5f\",\"gridcolor\":\"white\",\"linecolor\":\"white\",\"minorgridcolor\":\"white\",\"startlinecolor\":\"#2a3f5f\"},\"type\":\"carpet\"}],\"choropleth\":[{\"colorbar\":{\"outlinewidth\":0,\"ticks\":\"\"},\"type\":\"choropleth\"}],\"contour\":[{\"colorbar\":{\"outlinewidth\":0,\"ticks\":\"\"},\"colorscale\":[[0.0,\"#0d0887\"],[0.1111111111111111,\"#46039f\"],[0.2222222222222222,\"#7201a8\"],[0.3333333333333333,\"#9c179e\"],[0.4444444444444444,\"#bd3786\"],[0.5555555555555556,\"#d8576b\"],[0.6666666666666666,\"#ed7953\"],[0.7777777777777778,\"#fb9f3a\"],[0.8888888888888888,\"#fdca26\"],[1.0,\"#f0f921\"]],\"type\":\"contour\"}],\"contourcarpet\":[{\"colorbar\":{\"outlinewidth\":0,\"ticks\":\"\"},\"type\":\"contourcarpet\"}],\"heatmap\":[{\"colorbar\":{\"outlinewidth\":0,\"ticks\":\"\"},\"colorscale\":[[0.0,\"#0d0887\"],[0.1111111111111111,\"#46039f\"],[0.2222222222222222,\"#7201a8\"],[0.3333333333333333,\"#9c179e\"],[0.4444444444444444,\"#bd3786\"],[0.5555555555555556,\"#d8576b\"],[0.6666666666666666,\"#ed7953\"],[0.7777777777777778,\"#fb9f3a\"],[0.8888888888888888,\"#fdca26\"],[1.0,\"#f0f921\"]],\"type\":\"heatmap\"}],\"heatmapgl\":[{\"colorbar\":{\"outlinewidth\":0,\"ticks\":\"\"},\"colorscale\":[[0.0,\"#0d0887\"],[0.1111111111111111,\"#46039f\"],[0.2222222222222222,\"#7201a8\"],[0.3333333333333333,\"#9c179e\"],[0.4444444444444444,\"#bd3786\"],[0.5555555555555556,\"#d8576b\"],[0.6666666666666666,\"#ed7953\"],[0.7777777777777778,\"#fb9f3a\"],[0.8888888888888888,\"#fdca26\"],[1.0,\"#f0f921\"]],\"type\":\"heatmapgl\"}],\"histogram\":[{\"marker\":{\"pattern\":{\"fillmode\":\"overlay\",\"size\":10,\"solidity\":0.2}},\"type\":\"histogram\"}],\"histogram2d\":[{\"colorbar\":{\"outlinewidth\":0,\"ticks\":\"\"},\"colorscale\":[[0.0,\"#0d0887\"],[0.1111111111111111,\"#46039f\"],[0.2222222222222222,\"#7201a8\"],[0.3333333333333333,\"#9c179e\"],[0.4444444444444444,\"#bd3786\"],[0.5555555555555556,\"#d8576b\"],[0.6666666666666666,\"#ed7953\"],[0.7777777777777778,\"#fb9f3a\"],[0.8888888888888888,\"#fdca26\"],[1.0,\"#f0f921\"]],\"type\":\"histogram2d\"}],\"histogram2dcontour\":[{\"colorbar\":{\"outlinewidth\":0,\"ticks\":\"\"},\"colorscale\":[[0.0,\"#0d0887\"],[0.1111111111111111,\"#46039f\"],[0.2222222222222222,\"#7201a8\"],[0.3333333333333333,\"#9c179e\"],[0.4444444444444444,\"#bd3786\"],[0.5555555555555556,\"#d8576b\"],[0.6666666666666666,\"#ed7953\"],[0.7777777777777778,\"#fb9f3a\"],[0.8888888888888888,\"#fdca26\"],[1.0,\"#f0f921\"]],\"type\":\"histogram2dcontour\"}],\"mesh3d\":[{\"colorbar\":{\"outlinewidth\":0,\"ticks\":\"\"},\"type\":\"mesh3d\"}],\"parcoords\":[{\"line\":{\"colorbar\":{\"outlinewidth\":0,\"ticks\":\"\"}},\"type\":\"parcoords\"}],\"pie\":[{\"automargin\":true,\"type\":\"pie\"}],\"scatter\":[{\"marker\":{\"colorbar\":{\"outlinewidth\":0,\"ticks\":\"\"}},\"type\":\"scatter\"}],\"scatter3d\":[{\"line\":{\"colorbar\":{\"outlinewidth\":0,\"ticks\":\"\"}},\"marker\":{\"colorbar\":{\"outlinewidth\":0,\"ticks\":\"\"}},\"type\":\"scatter3d\"}],\"scattercarpet\":[{\"marker\":{\"colorbar\":{\"outlinewidth\":0,\"ticks\":\"\"}},\"type\":\"scattercarpet\"}],\"scattergeo\":[{\"marker\":{\"colorbar\":{\"outlinewidth\":0,\"ticks\":\"\"}},\"type\":\"scattergeo\"}],\"scattergl\":[{\"marker\":{\"colorbar\":{\"outlinewidth\":0,\"ticks\":\"\"}},\"type\":\"scattergl\"}],\"scattermapbox\":[{\"marker\":{\"colorbar\":{\"outlinewidth\":0,\"ticks\":\"\"}},\"type\":\"scattermapbox\"}],\"scatterpolar\":[{\"marker\":{\"colorbar\":{\"outlinewidth\":0,\"ticks\":\"\"}},\"type\":\"scatterpolar\"}],\"scatterpolargl\":[{\"marker\":{\"colorbar\":{\"outlinewidth\":0,\"ticks\":\"\"}},\"type\":\"scatterpolargl\"}],\"scatterternary\":[{\"marker\":{\"colorbar\":{\"outlinewidth\":0,\"ticks\":\"\"}},\"type\":\"scatterternary\"}],\"surface\":[{\"colorbar\":{\"outlinewidth\":0,\"ticks\":\"\"},\"colorscale\":[[0.0,\"#0d0887\"],[0.1111111111111111,\"#46039f\"],[0.2222222222222222,\"#7201a8\"],[0.3333333333333333,\"#9c179e\"],[0.4444444444444444,\"#bd3786\"],[0.5555555555555556,\"#d8576b\"],[0.6666666666666666,\"#ed7953\"],[0.7777777777777778,\"#fb9f3a\"],[0.8888888888888888,\"#fdca26\"],[1.0,\"#f0f921\"]],\"type\":\"surface\"}],\"table\":[{\"cells\":{\"fill\":{\"color\":\"#EBF0F8\"},\"line\":{\"color\":\"white\"}},\"header\":{\"fill\":{\"color\":\"#C8D4E3\"},\"line\":{\"color\":\"white\"}},\"type\":\"table\"}]},\"layout\":{\"annotationdefaults\":{\"arrowcolor\":\"#2a3f5f\",\"arrowhead\":0,\"arrowwidth\":1},\"autotypenumbers\":\"strict\",\"coloraxis\":{\"colorbar\":{\"outlinewidth\":0,\"ticks\":\"\"}},\"colorscale\":{\"diverging\":[[0,\"#8e0152\"],[0.1,\"#c51b7d\"],[0.2,\"#de77ae\"],[0.3,\"#f1b6da\"],[0.4,\"#fde0ef\"],[0.5,\"#f7f7f7\"],[0.6,\"#e6f5d0\"],[0.7,\"#b8e186\"],[0.8,\"#7fbc41\"],[0.9,\"#4d9221\"],[1,\"#276419\"]],\"sequential\":[[0.0,\"#0d0887\"],[0.1111111111111111,\"#46039f\"],[0.2222222222222222,\"#7201a8\"],[0.3333333333333333,\"#9c179e\"],[0.4444444444444444,\"#bd3786\"],[0.5555555555555556,\"#d8576b\"],[0.6666666666666666,\"#ed7953\"],[0.7777777777777778,\"#fb9f3a\"],[0.8888888888888888,\"#fdca26\"],[1.0,\"#f0f921\"]],\"sequentialminus\":[[0.0,\"#0d0887\"],[0.1111111111111111,\"#46039f\"],[0.2222222222222222,\"#7201a8\"],[0.3333333333333333,\"#9c179e\"],[0.4444444444444444,\"#bd3786\"],[0.5555555555555556,\"#d8576b\"],[0.6666666666666666,\"#ed7953\"],[0.7777777777777778,\"#fb9f3a\"],[0.8888888888888888,\"#fdca26\"],[1.0,\"#f0f921\"]]},\"colorway\":[\"#636efa\",\"#EF553B\",\"#00cc96\",\"#ab63fa\",\"#FFA15A\",\"#19d3f3\",\"#FF6692\",\"#B6E880\",\"#FF97FF\",\"#FECB52\"],\"font\":{\"color\":\"#2a3f5f\"},\"geo\":{\"bgcolor\":\"white\",\"lakecolor\":\"white\",\"landcolor\":\"#E5ECF6\",\"showlakes\":true,\"showland\":true,\"subunitcolor\":\"white\"},\"hoverlabel\":{\"align\":\"left\"},\"hovermode\":\"closest\",\"mapbox\":{\"style\":\"light\"},\"paper_bgcolor\":\"white\",\"plot_bgcolor\":\"#E5ECF6\",\"polar\":{\"angularaxis\":{\"gridcolor\":\"white\",\"linecolor\":\"white\",\"ticks\":\"\"},\"bgcolor\":\"#E5ECF6\",\"radialaxis\":{\"gridcolor\":\"white\",\"linecolor\":\"white\",\"ticks\":\"\"}},\"scene\":{\"xaxis\":{\"backgroundcolor\":\"#E5ECF6\",\"gridcolor\":\"white\",\"gridwidth\":2,\"linecolor\":\"white\",\"showbackground\":true,\"ticks\":\"\",\"zerolinecolor\":\"white\"},\"yaxis\":{\"backgroundcolor\":\"#E5ECF6\",\"gridcolor\":\"white\",\"gridwidth\":2,\"linecolor\":\"white\",\"showbackground\":true,\"ticks\":\"\",\"zerolinecolor\":\"white\"},\"zaxis\":{\"backgroundcolor\":\"#E5ECF6\",\"gridcolor\":\"white\",\"gridwidth\":2,\"linecolor\":\"white\",\"showbackground\":true,\"ticks\":\"\",\"zerolinecolor\":\"white\"}},\"shapedefaults\":{\"line\":{\"color\":\"#2a3f5f\"}},\"ternary\":{\"aaxis\":{\"gridcolor\":\"white\",\"linecolor\":\"white\",\"ticks\":\"\"},\"baxis\":{\"gridcolor\":\"white\",\"linecolor\":\"white\",\"ticks\":\"\"},\"bgcolor\":\"#E5ECF6\",\"caxis\":{\"gridcolor\":\"white\",\"linecolor\":\"white\",\"ticks\":\"\"}},\"title\":{\"x\":0.05},\"xaxis\":{\"automargin\":true,\"gridcolor\":\"white\",\"linecolor\":\"white\",\"ticks\":\"\",\"title\":{\"standoff\":15},\"zerolinecolor\":\"white\",\"zerolinewidth\":2},\"yaxis\":{\"automargin\":true,\"gridcolor\":\"white\",\"linecolor\":\"white\",\"ticks\":\"\",\"title\":{\"standoff\":15},\"zerolinecolor\":\"white\",\"zerolinewidth\":2}}},\"xaxis\":{\"anchor\":\"y\",\"domain\":[0.0,1.0],\"title\":{\"text\":\"week\"}},\"yaxis\":{\"anchor\":\"x\",\"domain\":[0.0,1.0],\"title\":{\"text\":\"count\"}},\"legend\":{\"title\":{\"text\":\"attacked_country\"},\"tracegroupgap\":0},\"margin\":{\"t\":60}},                        {\"responsive\": true}                    ).then(function(){\n",
              "                            \n",
              "var gd = document.getElementById('7552b154-0387-4288-820b-8ca4c4c72014');\n",
              "var x = new MutationObserver(function (mutations, observer) {{\n",
              "        var display = window.getComputedStyle(gd).display;\n",
              "        if (!display || display === 'none') {{\n",
              "            console.log([gd, 'removed!']);\n",
              "            Plotly.purge(gd);\n",
              "            observer.disconnect();\n",
              "        }}\n",
              "}});\n",
              "\n",
              "// Listen for the removal of the full notebook cells\n",
              "var notebookContainer = gd.closest('#notebook-container');\n",
              "if (notebookContainer) {{\n",
              "    x.observe(notebookContainer, {childList: true});\n",
              "}}\n",
              "\n",
              "// Listen for the clearing of the current output cell\n",
              "var outputEl = gd.closest('.output');\n",
              "if (outputEl) {{\n",
              "    x.observe(outputEl, {childList: true});\n",
              "}}\n",
              "\n",
              "                        })                };                            </script>        </div>\n",
              "</body>\n",
              "</html>"
            ]
          },
          "metadata": {}
        }
      ]
    },
    {
      "cell_type": "markdown",
      "source": [
        "### Count by attacker (line)"
      ],
      "metadata": {
        "id": "SUkpQLfjACAM"
      }
    },
    {
      "cell_type": "code",
      "source": [
        "plot_figure_1(link, 'attacking_country')"
      ],
      "metadata": {
        "id": "rVJ0SVvcAEYG",
        "colab": {
          "base_uri": "https://localhost:8080/",
          "height": 542
        },
        "outputId": "8eda3800-efc1-4308-82de-e090f3f65af2"
      },
      "execution_count": 9,
      "outputs": [
        {
          "output_type": "display_data",
          "data": {
            "text/html": [
              "<html>\n",
              "<head><meta charset=\"utf-8\" /></head>\n",
              "<body>\n",
              "    <div>            <script src=\"https://cdnjs.cloudflare.com/ajax/libs/mathjax/2.7.5/MathJax.js?config=TeX-AMS-MML_SVG\"></script><script type=\"text/javascript\">if (window.MathJax) {MathJax.Hub.Config({SVG: {font: \"STIX-Web\"}});}</script>                <script type=\"text/javascript\">window.PlotlyConfig = {MathJaxConfig: 'local'};</script>\n",
              "        <script src=\"https://cdn.plot.ly/plotly-2.8.3.min.js\"></script>                <div id=\"3b2ec89a-ae01-4d25-b062-fe7fa248e372\" class=\"plotly-graph-div\" style=\"height:525px; width:100%;\"></div>            <script type=\"text/javascript\">                                    window.PLOTLYENV=window.PLOTLYENV || {};                                    if (document.getElementById(\"3b2ec89a-ae01-4d25-b062-fe7fa248e372\")) {                    Plotly.newPlot(                        \"3b2ec89a-ae01-4d25-b062-fe7fa248e372\",                        [{\"hovertemplate\":\"attacking_country=Belarus<br>week=%{x}<br>count=%{y}<extra></extra>\",\"legendgroup\":\"Belarus\",\"line\":{\"color\":\"#636efa\",\"dash\":\"solid\"},\"marker\":{\"symbol\":\"circle\"},\"mode\":\"lines\",\"name\":\"Belarus\",\"orientation\":\"v\",\"showlegend\":true,\"x\":[\"2022-01-15\",\"2022-01-22\",\"2022-01-29\",\"2022-02-05\",\"2022-02-12\",\"2022-02-19\",\"2022-02-26\",\"2022-03-05\",\"2022-03-12\",\"2022-03-19\",\"2022-03-26\",\"2022-04-02\",\"2022-04-09\",\"2022-04-16\",\"2022-04-23\",\"2022-04-30\",\"2022-05-07\",\"2022-05-14\",\"2022-05-21\",\"2022-05-28\",\"2022-06-04\",\"2022-06-11\",\"2022-06-18\",\"2022-06-25\",\"2022-07-02\",\"2022-07-09\",\"2022-07-16\",\"2022-07-23\",\"2022-07-30\",\"2022-08-06\",\"2022-08-13\",\"2022-08-20\",\"2022-08-27\",\"2022-09-03\",\"2022-09-10\",\"2022-09-17\",\"2022-09-24\",\"2022-10-01\",\"2022-10-08\",\"2022-10-15\"],\"xaxis\":\"x\",\"y\":[2,0,0,0,0,0,0,0,0,0,0,0,0,0,0,0,0,0,0,0,0,0,0,0,0,0,0,0,0,0,0,0,0,0,0,0,0,0,0,0],\"yaxis\":\"y\",\"type\":\"scatter\"},{\"hovertemplate\":\"attacking_country=Decentralised<br>week=%{x}<br>count=%{y}<extra></extra>\",\"legendgroup\":\"Decentralised\",\"line\":{\"color\":\"#EF553B\",\"dash\":\"solid\"},\"marker\":{\"symbol\":\"circle\"},\"mode\":\"lines\",\"name\":\"Decentralised\",\"orientation\":\"v\",\"showlegend\":true,\"x\":[\"2022-01-15\",\"2022-01-22\",\"2022-01-29\",\"2022-02-05\",\"2022-02-12\",\"2022-02-19\",\"2022-02-26\",\"2022-03-05\",\"2022-03-12\",\"2022-03-19\",\"2022-03-26\",\"2022-04-02\",\"2022-04-09\",\"2022-04-16\",\"2022-04-23\",\"2022-04-30\",\"2022-05-07\",\"2022-05-14\",\"2022-05-21\",\"2022-05-28\",\"2022-06-04\",\"2022-06-11\",\"2022-06-18\",\"2022-06-25\",\"2022-07-02\",\"2022-07-09\",\"2022-07-16\",\"2022-07-23\",\"2022-07-30\",\"2022-08-06\",\"2022-08-13\",\"2022-08-20\",\"2022-08-27\",\"2022-09-03\",\"2022-09-10\",\"2022-09-17\",\"2022-09-24\",\"2022-10-01\",\"2022-10-08\",\"2022-10-15\"],\"xaxis\":\"x\",\"y\":[0,0,0,0,0,0,5,2,4,3,4,8,6,6,10,1,1,3,1,1,2,1,0,0,0,1,0,1,0,0,2,0,0,0,0,0,1,16,5,1],\"yaxis\":\"y\",\"type\":\"scatter\"},{\"hovertemplate\":\"attacking_country=Independent<br>week=%{x}<br>count=%{y}<extra></extra>\",\"legendgroup\":\"Independent\",\"line\":{\"color\":\"#00cc96\",\"dash\":\"solid\"},\"marker\":{\"symbol\":\"circle\"},\"mode\":\"lines\",\"name\":\"Independent\",\"orientation\":\"v\",\"showlegend\":true,\"x\":[\"2022-01-15\",\"2022-01-22\",\"2022-01-29\",\"2022-02-05\",\"2022-02-12\",\"2022-02-19\",\"2022-02-26\",\"2022-03-05\",\"2022-03-12\",\"2022-03-19\",\"2022-03-26\",\"2022-04-02\",\"2022-04-09\",\"2022-04-16\",\"2022-04-23\",\"2022-04-30\",\"2022-05-07\",\"2022-05-14\",\"2022-05-21\",\"2022-05-28\",\"2022-06-04\",\"2022-06-11\",\"2022-06-18\",\"2022-06-25\",\"2022-07-02\",\"2022-07-09\",\"2022-07-16\",\"2022-07-23\",\"2022-07-30\",\"2022-08-06\",\"2022-08-13\",\"2022-08-20\",\"2022-08-27\",\"2022-09-03\",\"2022-09-10\",\"2022-09-17\",\"2022-09-24\",\"2022-10-01\",\"2022-10-08\",\"2022-10-15\"],\"xaxis\":\"x\",\"y\":[0,0,0,0,0,0,0,0,0,0,0,0,0,0,0,0,0,0,0,0,0,0,0,0,0,0,0,0,1,0,0,0,0,0,0,0,0,0,0,0],\"yaxis\":\"y\",\"type\":\"scatter\"},{\"hovertemplate\":\"attacking_country=China<br>week=%{x}<br>count=%{y}<extra></extra>\",\"legendgroup\":\"China\",\"line\":{\"color\":\"#ab63fa\",\"dash\":\"solid\"},\"marker\":{\"symbol\":\"circle\"},\"mode\":\"lines\",\"name\":\"China\",\"orientation\":\"v\",\"showlegend\":true,\"x\":[\"2022-01-15\",\"2022-01-22\",\"2022-01-29\",\"2022-02-05\",\"2022-02-12\",\"2022-02-19\",\"2022-02-26\",\"2022-03-05\",\"2022-03-12\",\"2022-03-19\",\"2022-03-26\",\"2022-04-02\",\"2022-04-09\",\"2022-04-16\",\"2022-04-23\",\"2022-04-30\",\"2022-05-07\",\"2022-05-14\",\"2022-05-21\",\"2022-05-28\",\"2022-06-04\",\"2022-06-11\",\"2022-06-18\",\"2022-06-25\",\"2022-07-02\",\"2022-07-09\",\"2022-07-16\",\"2022-07-23\",\"2022-07-30\",\"2022-08-06\",\"2022-08-13\",\"2022-08-20\",\"2022-08-27\",\"2022-09-03\",\"2022-09-10\",\"2022-09-17\",\"2022-09-24\",\"2022-10-01\",\"2022-10-08\",\"2022-10-15\"],\"xaxis\":\"x\",\"y\":[0,0,0,0,0,0,6,1,0,0,1,0,0,0,0,0,0,0,0,0,0,0,0,1,0,0,0,0,0,0,0,0,0,0,0,0,0,0,0,0],\"yaxis\":\"y\",\"type\":\"scatter\"},{\"hovertemplate\":\"attacking_country=Ukraine<br>week=%{x}<br>count=%{y}<extra></extra>\",\"legendgroup\":\"Ukraine\",\"line\":{\"color\":\"#FFA15A\",\"dash\":\"solid\"},\"marker\":{\"symbol\":\"circle\"},\"mode\":\"lines\",\"name\":\"Ukraine\",\"orientation\":\"v\",\"showlegend\":true,\"x\":[\"2022-01-15\",\"2022-01-22\",\"2022-01-29\",\"2022-02-05\",\"2022-02-12\",\"2022-02-19\",\"2022-02-26\",\"2022-03-05\",\"2022-03-12\",\"2022-03-19\",\"2022-03-26\",\"2022-04-02\",\"2022-04-09\",\"2022-04-16\",\"2022-04-23\",\"2022-04-30\",\"2022-05-07\",\"2022-05-14\",\"2022-05-21\",\"2022-05-28\",\"2022-06-04\",\"2022-06-11\",\"2022-06-18\",\"2022-06-25\",\"2022-07-02\",\"2022-07-09\",\"2022-07-16\",\"2022-07-23\",\"2022-07-30\",\"2022-08-06\",\"2022-08-13\",\"2022-08-20\",\"2022-08-27\",\"2022-09-03\",\"2022-09-10\",\"2022-09-17\",\"2022-09-24\",\"2022-10-01\",\"2022-10-08\",\"2022-10-15\"],\"xaxis\":\"x\",\"y\":[0,1,0,0,0,0,3,2,0,2,3,2,2,1,0,2,0,0,0,0,0,1,0,0,1,1,0,0,4,2,4,6,6,2,3,4,2,1,3,0],\"yaxis\":\"y\",\"type\":\"scatter\"},{\"hovertemplate\":\"attacking_country=Missing<br>week=%{x}<br>count=%{y}<extra></extra>\",\"legendgroup\":\"Missing\",\"line\":{\"color\":\"#19d3f3\",\"dash\":\"solid\"},\"marker\":{\"symbol\":\"circle\"},\"mode\":\"lines\",\"name\":\"Missing\",\"orientation\":\"v\",\"showlegend\":true,\"x\":[\"2022-01-15\",\"2022-01-22\",\"2022-01-29\",\"2022-02-05\",\"2022-02-12\",\"2022-02-19\",\"2022-02-26\",\"2022-03-05\",\"2022-03-12\",\"2022-03-19\",\"2022-03-26\",\"2022-04-02\",\"2022-04-09\",\"2022-04-16\",\"2022-04-23\",\"2022-04-30\",\"2022-05-07\",\"2022-05-14\",\"2022-05-21\",\"2022-05-28\",\"2022-06-04\",\"2022-06-11\",\"2022-06-18\",\"2022-06-25\",\"2022-07-02\",\"2022-07-09\",\"2022-07-16\",\"2022-07-23\",\"2022-07-30\",\"2022-08-06\",\"2022-08-13\",\"2022-08-20\",\"2022-08-27\",\"2022-09-03\",\"2022-09-10\",\"2022-09-17\",\"2022-09-24\",\"2022-10-01\",\"2022-10-08\",\"2022-10-15\"],\"xaxis\":\"x\",\"y\":[1,1,1,0,0,1,9,7,7,8,10,4,3,1,2,2,6,3,0,0,5,6,5,0,5,6,2,8,5,5,12,8,14,3,4,5,1,3,5,0],\"yaxis\":\"y\",\"type\":\"scatter\"},{\"hovertemplate\":\"attacking_country=Russia<br>week=%{x}<br>count=%{y}<extra></extra>\",\"legendgroup\":\"Russia\",\"line\":{\"color\":\"#FF6692\",\"dash\":\"solid\"},\"marker\":{\"symbol\":\"circle\"},\"mode\":\"lines\",\"name\":\"Russia\",\"orientation\":\"v\",\"showlegend\":true,\"x\":[\"2022-01-15\",\"2022-01-22\",\"2022-01-29\",\"2022-02-05\",\"2022-02-12\",\"2022-02-19\",\"2022-02-26\",\"2022-03-05\",\"2022-03-12\",\"2022-03-19\",\"2022-03-26\",\"2022-04-02\",\"2022-04-09\",\"2022-04-16\",\"2022-04-23\",\"2022-04-30\",\"2022-05-07\",\"2022-05-14\",\"2022-05-21\",\"2022-05-28\",\"2022-06-04\",\"2022-06-11\",\"2022-06-18\",\"2022-06-25\",\"2022-07-02\",\"2022-07-09\",\"2022-07-16\",\"2022-07-23\",\"2022-07-30\",\"2022-08-06\",\"2022-08-13\",\"2022-08-20\",\"2022-08-27\",\"2022-09-03\",\"2022-09-10\",\"2022-09-17\",\"2022-09-24\",\"2022-10-01\",\"2022-10-08\",\"2022-10-15\"],\"xaxis\":\"x\",\"y\":[3,1,0,2,2,2,14,6,2,4,5,6,6,10,4,8,1,6,8,0,0,2,0,2,9,6,2,6,6,4,8,24,4,1,7,13,18,3,6,4],\"yaxis\":\"y\",\"type\":\"scatter\"}],                        {\"template\":{\"data\":{\"bar\":[{\"error_x\":{\"color\":\"#2a3f5f\"},\"error_y\":{\"color\":\"#2a3f5f\"},\"marker\":{\"line\":{\"color\":\"#E5ECF6\",\"width\":0.5},\"pattern\":{\"fillmode\":\"overlay\",\"size\":10,\"solidity\":0.2}},\"type\":\"bar\"}],\"barpolar\":[{\"marker\":{\"line\":{\"color\":\"#E5ECF6\",\"width\":0.5},\"pattern\":{\"fillmode\":\"overlay\",\"size\":10,\"solidity\":0.2}},\"type\":\"barpolar\"}],\"carpet\":[{\"aaxis\":{\"endlinecolor\":\"#2a3f5f\",\"gridcolor\":\"white\",\"linecolor\":\"white\",\"minorgridcolor\":\"white\",\"startlinecolor\":\"#2a3f5f\"},\"baxis\":{\"endlinecolor\":\"#2a3f5f\",\"gridcolor\":\"white\",\"linecolor\":\"white\",\"minorgridcolor\":\"white\",\"startlinecolor\":\"#2a3f5f\"},\"type\":\"carpet\"}],\"choropleth\":[{\"colorbar\":{\"outlinewidth\":0,\"ticks\":\"\"},\"type\":\"choropleth\"}],\"contour\":[{\"colorbar\":{\"outlinewidth\":0,\"ticks\":\"\"},\"colorscale\":[[0.0,\"#0d0887\"],[0.1111111111111111,\"#46039f\"],[0.2222222222222222,\"#7201a8\"],[0.3333333333333333,\"#9c179e\"],[0.4444444444444444,\"#bd3786\"],[0.5555555555555556,\"#d8576b\"],[0.6666666666666666,\"#ed7953\"],[0.7777777777777778,\"#fb9f3a\"],[0.8888888888888888,\"#fdca26\"],[1.0,\"#f0f921\"]],\"type\":\"contour\"}],\"contourcarpet\":[{\"colorbar\":{\"outlinewidth\":0,\"ticks\":\"\"},\"type\":\"contourcarpet\"}],\"heatmap\":[{\"colorbar\":{\"outlinewidth\":0,\"ticks\":\"\"},\"colorscale\":[[0.0,\"#0d0887\"],[0.1111111111111111,\"#46039f\"],[0.2222222222222222,\"#7201a8\"],[0.3333333333333333,\"#9c179e\"],[0.4444444444444444,\"#bd3786\"],[0.5555555555555556,\"#d8576b\"],[0.6666666666666666,\"#ed7953\"],[0.7777777777777778,\"#fb9f3a\"],[0.8888888888888888,\"#fdca26\"],[1.0,\"#f0f921\"]],\"type\":\"heatmap\"}],\"heatmapgl\":[{\"colorbar\":{\"outlinewidth\":0,\"ticks\":\"\"},\"colorscale\":[[0.0,\"#0d0887\"],[0.1111111111111111,\"#46039f\"],[0.2222222222222222,\"#7201a8\"],[0.3333333333333333,\"#9c179e\"],[0.4444444444444444,\"#bd3786\"],[0.5555555555555556,\"#d8576b\"],[0.6666666666666666,\"#ed7953\"],[0.7777777777777778,\"#fb9f3a\"],[0.8888888888888888,\"#fdca26\"],[1.0,\"#f0f921\"]],\"type\":\"heatmapgl\"}],\"histogram\":[{\"marker\":{\"pattern\":{\"fillmode\":\"overlay\",\"size\":10,\"solidity\":0.2}},\"type\":\"histogram\"}],\"histogram2d\":[{\"colorbar\":{\"outlinewidth\":0,\"ticks\":\"\"},\"colorscale\":[[0.0,\"#0d0887\"],[0.1111111111111111,\"#46039f\"],[0.2222222222222222,\"#7201a8\"],[0.3333333333333333,\"#9c179e\"],[0.4444444444444444,\"#bd3786\"],[0.5555555555555556,\"#d8576b\"],[0.6666666666666666,\"#ed7953\"],[0.7777777777777778,\"#fb9f3a\"],[0.8888888888888888,\"#fdca26\"],[1.0,\"#f0f921\"]],\"type\":\"histogram2d\"}],\"histogram2dcontour\":[{\"colorbar\":{\"outlinewidth\":0,\"ticks\":\"\"},\"colorscale\":[[0.0,\"#0d0887\"],[0.1111111111111111,\"#46039f\"],[0.2222222222222222,\"#7201a8\"],[0.3333333333333333,\"#9c179e\"],[0.4444444444444444,\"#bd3786\"],[0.5555555555555556,\"#d8576b\"],[0.6666666666666666,\"#ed7953\"],[0.7777777777777778,\"#fb9f3a\"],[0.8888888888888888,\"#fdca26\"],[1.0,\"#f0f921\"]],\"type\":\"histogram2dcontour\"}],\"mesh3d\":[{\"colorbar\":{\"outlinewidth\":0,\"ticks\":\"\"},\"type\":\"mesh3d\"}],\"parcoords\":[{\"line\":{\"colorbar\":{\"outlinewidth\":0,\"ticks\":\"\"}},\"type\":\"parcoords\"}],\"pie\":[{\"automargin\":true,\"type\":\"pie\"}],\"scatter\":[{\"marker\":{\"colorbar\":{\"outlinewidth\":0,\"ticks\":\"\"}},\"type\":\"scatter\"}],\"scatter3d\":[{\"line\":{\"colorbar\":{\"outlinewidth\":0,\"ticks\":\"\"}},\"marker\":{\"colorbar\":{\"outlinewidth\":0,\"ticks\":\"\"}},\"type\":\"scatter3d\"}],\"scattercarpet\":[{\"marker\":{\"colorbar\":{\"outlinewidth\":0,\"ticks\":\"\"}},\"type\":\"scattercarpet\"}],\"scattergeo\":[{\"marker\":{\"colorbar\":{\"outlinewidth\":0,\"ticks\":\"\"}},\"type\":\"scattergeo\"}],\"scattergl\":[{\"marker\":{\"colorbar\":{\"outlinewidth\":0,\"ticks\":\"\"}},\"type\":\"scattergl\"}],\"scattermapbox\":[{\"marker\":{\"colorbar\":{\"outlinewidth\":0,\"ticks\":\"\"}},\"type\":\"scattermapbox\"}],\"scatterpolar\":[{\"marker\":{\"colorbar\":{\"outlinewidth\":0,\"ticks\":\"\"}},\"type\":\"scatterpolar\"}],\"scatterpolargl\":[{\"marker\":{\"colorbar\":{\"outlinewidth\":0,\"ticks\":\"\"}},\"type\":\"scatterpolargl\"}],\"scatterternary\":[{\"marker\":{\"colorbar\":{\"outlinewidth\":0,\"ticks\":\"\"}},\"type\":\"scatterternary\"}],\"surface\":[{\"colorbar\":{\"outlinewidth\":0,\"ticks\":\"\"},\"colorscale\":[[0.0,\"#0d0887\"],[0.1111111111111111,\"#46039f\"],[0.2222222222222222,\"#7201a8\"],[0.3333333333333333,\"#9c179e\"],[0.4444444444444444,\"#bd3786\"],[0.5555555555555556,\"#d8576b\"],[0.6666666666666666,\"#ed7953\"],[0.7777777777777778,\"#fb9f3a\"],[0.8888888888888888,\"#fdca26\"],[1.0,\"#f0f921\"]],\"type\":\"surface\"}],\"table\":[{\"cells\":{\"fill\":{\"color\":\"#EBF0F8\"},\"line\":{\"color\":\"white\"}},\"header\":{\"fill\":{\"color\":\"#C8D4E3\"},\"line\":{\"color\":\"white\"}},\"type\":\"table\"}]},\"layout\":{\"annotationdefaults\":{\"arrowcolor\":\"#2a3f5f\",\"arrowhead\":0,\"arrowwidth\":1},\"autotypenumbers\":\"strict\",\"coloraxis\":{\"colorbar\":{\"outlinewidth\":0,\"ticks\":\"\"}},\"colorscale\":{\"diverging\":[[0,\"#8e0152\"],[0.1,\"#c51b7d\"],[0.2,\"#de77ae\"],[0.3,\"#f1b6da\"],[0.4,\"#fde0ef\"],[0.5,\"#f7f7f7\"],[0.6,\"#e6f5d0\"],[0.7,\"#b8e186\"],[0.8,\"#7fbc41\"],[0.9,\"#4d9221\"],[1,\"#276419\"]],\"sequential\":[[0.0,\"#0d0887\"],[0.1111111111111111,\"#46039f\"],[0.2222222222222222,\"#7201a8\"],[0.3333333333333333,\"#9c179e\"],[0.4444444444444444,\"#bd3786\"],[0.5555555555555556,\"#d8576b\"],[0.6666666666666666,\"#ed7953\"],[0.7777777777777778,\"#fb9f3a\"],[0.8888888888888888,\"#fdca26\"],[1.0,\"#f0f921\"]],\"sequentialminus\":[[0.0,\"#0d0887\"],[0.1111111111111111,\"#46039f\"],[0.2222222222222222,\"#7201a8\"],[0.3333333333333333,\"#9c179e\"],[0.4444444444444444,\"#bd3786\"],[0.5555555555555556,\"#d8576b\"],[0.6666666666666666,\"#ed7953\"],[0.7777777777777778,\"#fb9f3a\"],[0.8888888888888888,\"#fdca26\"],[1.0,\"#f0f921\"]]},\"colorway\":[\"#636efa\",\"#EF553B\",\"#00cc96\",\"#ab63fa\",\"#FFA15A\",\"#19d3f3\",\"#FF6692\",\"#B6E880\",\"#FF97FF\",\"#FECB52\"],\"font\":{\"color\":\"#2a3f5f\"},\"geo\":{\"bgcolor\":\"white\",\"lakecolor\":\"white\",\"landcolor\":\"#E5ECF6\",\"showlakes\":true,\"showland\":true,\"subunitcolor\":\"white\"},\"hoverlabel\":{\"align\":\"left\"},\"hovermode\":\"closest\",\"mapbox\":{\"style\":\"light\"},\"paper_bgcolor\":\"white\",\"plot_bgcolor\":\"#E5ECF6\",\"polar\":{\"angularaxis\":{\"gridcolor\":\"white\",\"linecolor\":\"white\",\"ticks\":\"\"},\"bgcolor\":\"#E5ECF6\",\"radialaxis\":{\"gridcolor\":\"white\",\"linecolor\":\"white\",\"ticks\":\"\"}},\"scene\":{\"xaxis\":{\"backgroundcolor\":\"#E5ECF6\",\"gridcolor\":\"white\",\"gridwidth\":2,\"linecolor\":\"white\",\"showbackground\":true,\"ticks\":\"\",\"zerolinecolor\":\"white\"},\"yaxis\":{\"backgroundcolor\":\"#E5ECF6\",\"gridcolor\":\"white\",\"gridwidth\":2,\"linecolor\":\"white\",\"showbackground\":true,\"ticks\":\"\",\"zerolinecolor\":\"white\"},\"zaxis\":{\"backgroundcolor\":\"#E5ECF6\",\"gridcolor\":\"white\",\"gridwidth\":2,\"linecolor\":\"white\",\"showbackground\":true,\"ticks\":\"\",\"zerolinecolor\":\"white\"}},\"shapedefaults\":{\"line\":{\"color\":\"#2a3f5f\"}},\"ternary\":{\"aaxis\":{\"gridcolor\":\"white\",\"linecolor\":\"white\",\"ticks\":\"\"},\"baxis\":{\"gridcolor\":\"white\",\"linecolor\":\"white\",\"ticks\":\"\"},\"bgcolor\":\"#E5ECF6\",\"caxis\":{\"gridcolor\":\"white\",\"linecolor\":\"white\",\"ticks\":\"\"}},\"title\":{\"x\":0.05},\"xaxis\":{\"automargin\":true,\"gridcolor\":\"white\",\"linecolor\":\"white\",\"ticks\":\"\",\"title\":{\"standoff\":15},\"zerolinecolor\":\"white\",\"zerolinewidth\":2},\"yaxis\":{\"automargin\":true,\"gridcolor\":\"white\",\"linecolor\":\"white\",\"ticks\":\"\",\"title\":{\"standoff\":15},\"zerolinecolor\":\"white\",\"zerolinewidth\":2}}},\"xaxis\":{\"anchor\":\"y\",\"domain\":[0.0,1.0],\"title\":{\"text\":\"week\"}},\"yaxis\":{\"anchor\":\"x\",\"domain\":[0.0,1.0],\"title\":{\"text\":\"count\"}},\"legend\":{\"title\":{\"text\":\"attacking_country\"},\"tracegroupgap\":0},\"margin\":{\"t\":60}},                        {\"responsive\": true}                    ).then(function(){\n",
              "                            \n",
              "var gd = document.getElementById('3b2ec89a-ae01-4d25-b062-fe7fa248e372');\n",
              "var x = new MutationObserver(function (mutations, observer) {{\n",
              "        var display = window.getComputedStyle(gd).display;\n",
              "        if (!display || display === 'none') {{\n",
              "            console.log([gd, 'removed!']);\n",
              "            Plotly.purge(gd);\n",
              "            observer.disconnect();\n",
              "        }}\n",
              "}});\n",
              "\n",
              "// Listen for the removal of the full notebook cells\n",
              "var notebookContainer = gd.closest('#notebook-container');\n",
              "if (notebookContainer) {{\n",
              "    x.observe(notebookContainer, {childList: true});\n",
              "}}\n",
              "\n",
              "// Listen for the clearing of the current output cell\n",
              "var outputEl = gd.closest('.output');\n",
              "if (outputEl) {{\n",
              "    x.observe(outputEl, {childList: true});\n",
              "}}\n",
              "\n",
              "                        })                };                            </script>        </div>\n",
              "</body>\n",
              "</html>"
            ]
          },
          "metadata": {}
        }
      ]
    },
    {
      "cell_type": "markdown",
      "source": [
        "### Download: Count by attacked (checkbox) vs attacker (line) "
      ],
      "metadata": {
        "id": "VPlIm3BU6F4Y"
      }
    },
    {
      "cell_type": "code",
      "source": [
        "filename = 'attacker_attacked.csv'\n",
        "\n",
        "attacker_attacked = generate_dataset_2(link, 'attacked_country', 'attacking_country')\n",
        "attacker_attacked.to_csv(filename)\n",
        "\n",
        "files.download(filename)"
      ],
      "metadata": {
        "id": "ADqdAKNn6HdI",
        "colab": {
          "base_uri": "https://localhost:8080/",
          "height": 17
        },
        "outputId": "2a20e0aa-5183-4c9a-8a24-16e72f6f0525"
      },
      "execution_count": 10,
      "outputs": [
        {
          "output_type": "display_data",
          "data": {
            "text/plain": [
              "<IPython.core.display.Javascript object>"
            ],
            "application/javascript": [
              "\n",
              "    async function download(id, filename, size) {\n",
              "      if (!google.colab.kernel.accessAllowed) {\n",
              "        return;\n",
              "      }\n",
              "      const div = document.createElement('div');\n",
              "      const label = document.createElement('label');\n",
              "      label.textContent = `Downloading \"${filename}\": `;\n",
              "      div.appendChild(label);\n",
              "      const progress = document.createElement('progress');\n",
              "      progress.max = size;\n",
              "      div.appendChild(progress);\n",
              "      document.body.appendChild(div);\n",
              "\n",
              "      const buffers = [];\n",
              "      let downloaded = 0;\n",
              "\n",
              "      const channel = await google.colab.kernel.comms.open(id);\n",
              "      // Send a message to notify the kernel that we're ready.\n",
              "      channel.send({})\n",
              "\n",
              "      for await (const message of channel.messages) {\n",
              "        // Send a message to notify the kernel that we're ready.\n",
              "        channel.send({})\n",
              "        if (message.buffers) {\n",
              "          for (const buffer of message.buffers) {\n",
              "            buffers.push(buffer);\n",
              "            downloaded += buffer.byteLength;\n",
              "            progress.value = downloaded;\n",
              "          }\n",
              "        }\n",
              "      }\n",
              "      const blob = new Blob(buffers, {type: 'application/binary'});\n",
              "      const a = document.createElement('a');\n",
              "      a.href = window.URL.createObjectURL(blob);\n",
              "      a.download = filename;\n",
              "      div.appendChild(a);\n",
              "      a.click();\n",
              "      div.remove();\n",
              "    }\n",
              "  "
            ]
          },
          "metadata": {}
        },
        {
          "output_type": "display_data",
          "data": {
            "text/plain": [
              "<IPython.core.display.Javascript object>"
            ],
            "application/javascript": [
              "download(\"download_e6cb358c-aeb0-45a7-9872-385cf24e4e8d\", \"attacker_attacked.csv\", 95422)"
            ]
          },
          "metadata": {}
        }
      ]
    },
    {
      "cell_type": "markdown",
      "source": [
        "### Count by attacker (checkbox) vs attacked (line) "
      ],
      "metadata": {
        "id": "9S3ydw8N8bQD"
      }
    },
    {
      "cell_type": "code",
      "source": [
        "plot_figure_2(link, 'attacking_country', 'attacked_country')"
      ],
      "metadata": {
        "id": "zrVM81tV8bQS",
        "colab": {
          "base_uri": "https://localhost:8080/",
          "height": 671
        },
        "outputId": "a72eccc1-fb5d-4acf-e9a3-b4d418988ed4"
      },
      "execution_count": 11,
      "outputs": [
        {
          "output_type": "display_data",
          "data": {
            "text/plain": [
              "<IPython.core.display.Javascript object>"
            ],
            "application/javascript": [
              "(async (port, path, width, height, cache, element) => {\n",
              "    if (!google.colab.kernel.accessAllowed && !cache) {\n",
              "      return;\n",
              "    }\n",
              "    element.appendChild(document.createTextNode(''));\n",
              "    const url = await google.colab.kernel.proxyPort(port, {cache});\n",
              "    const iframe = document.createElement('iframe');\n",
              "    iframe.src = new URL(path, url).toString();\n",
              "    iframe.height = height;\n",
              "    iframe.width = width;\n",
              "    iframe.style.border = 0;\n",
              "    element.appendChild(iframe);\n",
              "  })(8050, \"/\", \"100%\", 650, false, window.element)"
            ]
          },
          "metadata": {}
        }
      ]
    },
    {
      "cell_type": "markdown",
      "source": [
        "### Count by attacking organisation (checkbox) vs attack type (line) "
      ],
      "metadata": {
        "id": "FodOajrRUnB_"
      }
    },
    {
      "cell_type": "code",
      "source": [
        "filename = 'organisation_type.csv'\n",
        "\n",
        "organisation_type = generate_dataset_2(link, 'attacking_organisation', 'attack_type')\n",
        "organisation_type.to_csv(filename)\n",
        "\n",
        "files.download(filename)"
      ],
      "metadata": {
        "id": "cwLnD5-3R9nr",
        "colab": {
          "base_uri": "https://localhost:8080/",
          "height": 17
        },
        "outputId": "77d85525-1f68-408c-b747-619e1ef5c8b5"
      },
      "execution_count": 12,
      "outputs": [
        {
          "output_type": "display_data",
          "data": {
            "text/plain": [
              "<IPython.core.display.Javascript object>"
            ],
            "application/javascript": [
              "\n",
              "    async function download(id, filename, size) {\n",
              "      if (!google.colab.kernel.accessAllowed) {\n",
              "        return;\n",
              "      }\n",
              "      const div = document.createElement('div');\n",
              "      const label = document.createElement('label');\n",
              "      label.textContent = `Downloading \"${filename}\": `;\n",
              "      div.appendChild(label);\n",
              "      const progress = document.createElement('progress');\n",
              "      progress.max = size;\n",
              "      div.appendChild(progress);\n",
              "      document.body.appendChild(div);\n",
              "\n",
              "      const buffers = [];\n",
              "      let downloaded = 0;\n",
              "\n",
              "      const channel = await google.colab.kernel.comms.open(id);\n",
              "      // Send a message to notify the kernel that we're ready.\n",
              "      channel.send({})\n",
              "\n",
              "      for await (const message of channel.messages) {\n",
              "        // Send a message to notify the kernel that we're ready.\n",
              "        channel.send({})\n",
              "        if (message.buffers) {\n",
              "          for (const buffer of message.buffers) {\n",
              "            buffers.push(buffer);\n",
              "            downloaded += buffer.byteLength;\n",
              "            progress.value = downloaded;\n",
              "          }\n",
              "        }\n",
              "      }\n",
              "      const blob = new Blob(buffers, {type: 'application/binary'});\n",
              "      const a = document.createElement('a');\n",
              "      a.href = window.URL.createObjectURL(blob);\n",
              "      a.download = filename;\n",
              "      div.appendChild(a);\n",
              "      a.click();\n",
              "      div.remove();\n",
              "    }\n",
              "  "
            ]
          },
          "metadata": {}
        },
        {
          "output_type": "display_data",
          "data": {
            "text/plain": [
              "<IPython.core.display.Javascript object>"
            ],
            "application/javascript": [
              "download(\"download_7f0e33f7-deb2-4d8b-83d9-5c01d8eceacb\", \"organisation_type.csv\", 173823)"
            ]
          },
          "metadata": {}
        }
      ]
    }
  ]
}